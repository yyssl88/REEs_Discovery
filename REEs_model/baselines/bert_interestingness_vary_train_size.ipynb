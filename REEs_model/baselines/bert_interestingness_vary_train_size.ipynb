{
 "cells": [
  {
   "cell_type": "code",
   "execution_count": 30,
   "metadata": {},
   "outputs": [],
   "source": [
    "### original Bert for rule interestingness classification"
   ]
  },
  {
   "cell_type": "code",
   "execution_count": 31,
   "metadata": {},
   "outputs": [],
   "source": [
    "import sys\n",
    "\n",
    "datasetName = 'ncvoter' #sys.argv[1] #'airports' # hospital, ncvoter, inspection\n",
    "mlmOption = False #sys.argv[2]\n",
    "result_file = 'test.txt' #sys.argv[3]\n",
    "train_ratio = 0.6 #(float)(sys.argv[4])\n",
    "\n",
    "import os\n",
    "import pandas as pd\n",
    "import numpy as np\n",
    "import copy\n",
    "\n",
    "model_checkpoint_ = \"distilbert-base-uncased\"\n",
    "mlm_model_dir = os.path.join('./saved_models/', datasetName + '-' + model_checkpoint_ + '-mlm')\n",
    "saved_model_path = os.path.join('./saved_models/', datasetName + '-' + model_checkpoint_ + '-finetune')\n",
    "\n",
    "model_checkpoint = copy.deepcopy(model_checkpoint_)\n",
    "if mlmOption == True:\n",
    "    model_checkpoint = mlm_model_dir #\"distilbert-base-uncased\"\n",
    "data_prefix = '../../REEs_model_data/revision/labeled_data/'\n",
    "rules_set_path = os.path.join(data_prefix, datasetName, datasetName + '_rules.txt')"
   ]
  },
  {
   "cell_type": "code",
   "execution_count": null,
   "metadata": {},
   "outputs": [],
   "source": []
  },
  {
   "cell_type": "code",
   "execution_count": 32,
   "metadata": {},
   "outputs": [],
   "source": [
    "# process rules\n",
    "\n",
    "data_prefix = '../../REEs_model_data/revision/labeled_data/'\n",
    "rules_set_path = os.path.join(data_prefix, datasetName, datasetName + '_rules.txt')\n",
    "\n",
    "rules_set = pd.read_csv(rules_set_path)\n",
    "rules_set = rules_set.values\n",
    "\n",
    "for option in ('train', 'valid', 'test'):\n",
    "    rule_pair_set_path = os.path.join(data_prefix, datasetName, 'train', option + '.csv')\n",
    "    rules_pair_ids_set = pd.read_csv(rule_pair_set_path, delimiter=\",\")\n",
    "    #rules_pair_ids_set\n",
    "    # split training, validation and testing\n",
    "    # prepare the rule pairs\n",
    "    rules_pairs_set = []\n",
    "    rules_pair_ids_set = rules_pair_ids_set.values\n",
    "    if option == 'train':\n",
    "        np.random.seed(20)\n",
    "        np.random.shuffle(rules_pair_ids_set)\n",
    "        rules_pair_ids_set = rules_pair_ids_set[:int(len(rules_pair_ids_set) * train_ratio)]\n",
    "    for left_id, right_id, label in rules_pair_ids_set:\n",
    "        rule_left, rule_right = rules_set[left_id][0], rules_set[right_id][0]\n",
    "        rules_pairs_set.append([rule_left, rule_right, label])\n",
    "    rules_pairs_set = np.array(rules_pairs_set)\n",
    "    #rules_pairs_set[:10]\n",
    "    # save csv\n",
    "    rules_pairs_df = pd.DataFrame(rules_pairs_set, columns=['rule_left', 'rule_right', 'label'])\n",
    "    output_file = os.path.join(data_prefix, datasetName, datasetName + '_rule_pairs_' + option + '.csv')\n",
    "    rules_pairs_df.to_csv(output_file, index=False)"
   ]
  },
  {
   "cell_type": "code",
   "execution_count": 33,
   "metadata": {},
   "outputs": [],
   "source": [
    "# set gpu\n",
    "os.environ['CUDA_VISIBLE_DEVICES'] = '3'"
   ]
  },
  {
   "cell_type": "code",
   "execution_count": 34,
   "metadata": {},
   "outputs": [],
   "source": [
    "import transformers\n",
    "\n",
    "from datasets import load_metric"
   ]
  },
  {
   "cell_type": "code",
   "execution_count": 35,
   "metadata": {},
   "outputs": [
    {
     "name": "stderr",
     "output_type": "stream",
     "text": [
      "Using custom data configuration default-e40419f3dcbc1350\n"
     ]
    },
    {
     "name": "stdout",
     "output_type": "stream",
     "text": [
      "Downloading and preparing dataset csv/default (download: Unknown size, generated: Unknown size, post-processed: Unknown size, total: Unknown size) to /home/yaoshuw/.cache/huggingface/datasets/csv/default-e40419f3dcbc1350/0.0.0/e138af468cb14e747fb46a19c787ffcfa5170c821476d20d5304287ce12bbc23...\n"
     ]
    },
    {
     "data": {
      "application/vnd.jupyter.widget-view+json": {
       "model_id": "ae3ae17872884fa7b990bbbbdb9b820f",
       "version_major": 2,
       "version_minor": 0
      },
      "text/plain": [
       "0 tables [00:00, ? tables/s]"
      ]
     },
     "metadata": {},
     "output_type": "display_data"
    },
    {
     "name": "stdout",
     "output_type": "stream",
     "text": [
      "Dataset csv downloaded and prepared to /home/yaoshuw/.cache/huggingface/datasets/csv/default-e40419f3dcbc1350/0.0.0/e138af468cb14e747fb46a19c787ffcfa5170c821476d20d5304287ce12bbc23. Subsequent calls will reuse this data.\n"
     ]
    },
    {
     "name": "stderr",
     "output_type": "stream",
     "text": [
      "Using custom data configuration default-db7a43fa5f9f46f6\n"
     ]
    },
    {
     "name": "stdout",
     "output_type": "stream",
     "text": [
      "Downloading and preparing dataset csv/default (download: Unknown size, generated: Unknown size, post-processed: Unknown size, total: Unknown size) to /home/yaoshuw/.cache/huggingface/datasets/csv/default-db7a43fa5f9f46f6/0.0.0/e138af468cb14e747fb46a19c787ffcfa5170c821476d20d5304287ce12bbc23...\n"
     ]
    },
    {
     "data": {
      "application/vnd.jupyter.widget-view+json": {
       "model_id": "b01f31e87e234cd69eec07f1227a77f8",
       "version_major": 2,
       "version_minor": 0
      },
      "text/plain": [
       "0 tables [00:00, ? tables/s]"
      ]
     },
     "metadata": {},
     "output_type": "display_data"
    },
    {
     "name": "stdout",
     "output_type": "stream",
     "text": [
      "Dataset csv downloaded and prepared to /home/yaoshuw/.cache/huggingface/datasets/csv/default-db7a43fa5f9f46f6/0.0.0/e138af468cb14e747fb46a19c787ffcfa5170c821476d20d5304287ce12bbc23. Subsequent calls will reuse this data.\n"
     ]
    },
    {
     "name": "stderr",
     "output_type": "stream",
     "text": [
      "Using custom data configuration default-ca5a24981ae80192\n",
      "Reusing dataset csv (/home/yaoshuw/.cache/huggingface/datasets/csv/default-ca5a24981ae80192/0.0.0/e138af468cb14e747fb46a19c787ffcfa5170c821476d20d5304287ce12bbc23)\n"
     ]
    }
   ],
   "source": [
    "from datasets import load_dataset\n",
    "\n",
    "#dataset = load_dataset('csv', data_files='./top-k/rules/test_rules.csv')\n",
    "_datasets = []\n",
    "for option in ('train', 'valid', 'test'):\n",
    "    rule_pairs_file = os.path.join(data_prefix, datasetName, datasetName + '_rule_pairs_' + option + '.csv')\n",
    "    tmp_dataset = load_dataset('csv', data_files=rule_pairs_file)\n",
    "    _datasets.append(tmp_dataset)\n",
    "\n",
    "train_dataset, valid_dataset, test_dataset = _datasets"
   ]
  },
  {
   "cell_type": "code",
   "execution_count": 36,
   "metadata": {},
   "outputs": [
    {
     "data": {
      "text/plain": [
       "['ncvoter(t0) ⋀ ncvoter(t1) ⋀ t0.city_id2 == t1.city_id2 ⋀ t0.election_phase == 05/06/2008 PRIMARY  ->  t0.election_phase == t1.election_phase',\n",
       " 'ncvoter(t0) ⋀ ncvoter(t1) ⋀ t0.county_id == t1.county_id ⋀ t0.election_phase == 11/08/2016 GENERAL  ->  t0.election_phase == t1.election_phase',\n",
       " 'ncvoter(t0) ⋀ ncvoter(t1) ⋀ t0.county_desc == t1.county_desc ⋀ t0.election_phase == 05/06/2008 PRIMARY  ->  t0.election_phase == t1.election_phase',\n",
       " 'ncvoter(t0) ⋀ ncvoter(t1) ⋀ t0.date == 11/06/2012 ⋀ t0.election_phase == t1.election_phase  ->  t0.election_phase == 11/06/2012',\n",
       " 'ncvoter(t0) ⋀ ncvoter(t1) ⋀ t0.date == 11/08/2016 ⋀ t0.party == t1.party  ->  t0.election_phase == 11/08/2016',\n",
       " 'ncvoter(t0) ⋀ ncvoter(t1) ⋀ t0.city_id3 == t1.city_id3 ⋀ t0.county_id == t1.county_id ⋀ t0.election_phase == 11/08/2016 GENERAL  ->  t0.city == t1.city',\n",
       " 'ncvoter(t0) ⋀ ncvoter(t1) ⋀ t0.city_id2 == t1.city_id2 ⋀ t0.county_id == t1.county_id ⋀ t0.election_phase == t1.election_phase  ->  t0.city == t1.city',\n",
       " 'ncvoter(t0) ⋀ ncvoter(t1) ⋀ t0.city_id3 == t1.city_id3 ⋀ t0.county_id == t1.county_id ⋀ t0.election_phase == t1.election_phase  ->  t0.city == t1.city',\n",
       " 'ncvoter(t0) ⋀ ncvoter(t1) ⋀ t0.county_id == t1.county_id ⋀ t0.election_phase == 11/04/2008 GENERAL  ->  t0.date == t1.date',\n",
       " 'ncvoter(t0) ⋀ ncvoter(t1) ⋀ t0.county_id == t1.county_id ⋀ t0.election_phase == 11/04/2014 GENERAL  ->  t0.date == t1.date',\n",
       " 'ncvoter(t0) ⋀ ncvoter(t1) ⋀ t0.date == 11/04/2014 ⋀ t0.party == t1.party  ->  t0.election_phase == 11/04/2014',\n",
       " 'ncvoter(t0) ⋀ ncvoter(t1) ⋀ t0.date == 11/04/2008 ⋀ t0.election_phase == t1.election_phase  ->  t0.election_phase == 11/04/2008',\n",
       " 'ncvoter(t0) ⋀ ncvoter(t1) ⋀ t0.city == t1.city ⋀ t0.election_phase == 11/02/2010 GENERAL  ->  t0.election_phase == t1.election_phase',\n",
       " 'ncvoter(t0) ⋀ ncvoter(t1) ⋀ t0.election_phase == 11/06/2012 GENERAL ⋀ t0.way_of_voting == t1.way_of_voting  ->  t0.date == 11/06/2012',\n",
       " 'ncvoter(t0) ⋀ ncvoter(t1) ⋀ t0.election_phase == 11/08/2016 GENERAL ⋀ t0.party == t1.party  ->  t0.date == 11/08/2016',\n",
       " 'ncvoter(t0) ⋀ ncvoter(t1) ⋀ t0.county_id == t1.county_id ⋀ t0.election_phase == 11/02/2010 GENERAL  ->  t0.date == t1.date',\n",
       " 'ncvoter(t0) ⋀ ncvoter(t1) ⋀ t0.city_id2 == t1.city_id2 ⋀ t0.county_desc == t1.county_desc ⋀ t0.election_phase == 11/02/2010 GENERAL  ->  t0.city == t1.city',\n",
       " 'ncvoter(t0) ⋀ ncvoter(t1) ⋀ t0.election_phase == 11/08/2016 GENERAL ⋀ t0.way_of_voting == t1.way_of_voting  ->  t0.date == t1.date',\n",
       " 'ncvoter(t0) ⋀ ncvoter(t1) ⋀ t0.city_id3 == t1.city_id3 ⋀ t0.county_id == t1.county_id ⋀ t0.election_phase == 11/02/2010 GENERAL ⋀ t0.voting_intention == t1.voting_intention  ->  t0.city_id == t1.city_id',\n",
       " 'ncvoter(t0) ⋀ ncvoter(t1) ⋀ t0.election_phase == 11/04/2008 GENERAL ⋀ t0.election_phase == t1.election_phase  ->  t0.date == 11/04/2008',\n",
       " 'ncvoter(t0) ⋀ ncvoter(t1) ⋀ t0.election_phase == 11/06/2012 GENERAL ⋀ t0.party == t1.party  ->  t0.election_phase == t1.election_phase',\n",
       " 'ncvoter(t0) ⋀ ncvoter(t1) ⋀ t0.city_id3 == t1.city_id3 ⋀ t0.election_phase == 05/06/2008 PRIMARY  ->  t0.date == t1.date',\n",
       " 'ncvoter(t0) ⋀ ncvoter(t1) ⋀ t0.election_phase == 11/06/2012 GENERAL ⋀ t0.party == t1.party  ->  t0.election_phase == t1.election_phase',\n",
       " 'ncvoter(t0) ⋀ ncvoter(t1) ⋀ t0.city_id2 == t1.city_id2 ⋀ t0.county_desc == t1.county_desc ⋀ t0.election_phase == 11/02/2010 GENERAL ⋀ t0.way_of_voting == t1.way_of_voting  ->  t0.city == t1.city',\n",
       " 'ncvoter(t0) ⋀ ncvoter(t1) ⋀ t0.city_id2 == t1.city_id2 ⋀ t0.county_id == t1.county_id ⋀ t0.election_phase == 11/02/2010 GENERAL ⋀ t0.party == t1.party  ->  t0.city == t1.city',\n",
       " 'ncvoter(t0) ⋀ ncvoter(t1) ⋀ t0.election_phase == 11/06/2012 GENERAL ⋀ t0.party == t1.party  ->  t0.election_phase == t1.election_phase',\n",
       " 'ncvoter(t0) ⋀ ncvoter(t1) ⋀ t0.date == 11/06/2012 ⋀ t0.election_phase == t1.election_phase  ->  t0.election_phase == 11/06/2012',\n",
       " 'ncvoter(t0) ⋀ ncvoter(t1) ⋀ t0.city_id3 == t1.city_id3 ⋀ t0.county_desc == t1.county_desc ⋀ t0.election_phase == 11/02/2010 GENERAL ⋀ t0.voting_intention == t1.voting_intention  ->  t0.city == t1.city',\n",
       " 'ncvoter(t0) ⋀ ncvoter(t1) ⋀ t0.date == 11/04/2008 ⋀ t0.party == t1.party  ->  t0.election_phase == 11/04/2008',\n",
       " 'ncvoter(t0) ⋀ ncvoter(t1) ⋀ t0.date == 11/04/2008 ⋀ t0.election_phase == t1.election_phase  ->  t0.election_phase == 11/04/2008',\n",
       " 'ncvoter(t0) ⋀ ncvoter(t1) ⋀ t0.date == 11/04/2014 ⋀ t0.way_of_voting == t1.way_of_voting  ->  t0.election_phase == 11/04/2014',\n",
       " 'ncvoter(t0) ⋀ ncvoter(t1) ⋀ t0.election_phase == 11/04/2014 GENERAL ⋀ t0.way_of_voting == t1.way_of_voting  ->  t0.election_phase == t1.election_phase',\n",
       " 'ncvoter(t0) ⋀ ncvoter(t1) ⋀ t0.election_phase == 11/04/2008 GENERAL ⋀ t0.way_of_voting == t1.way_of_voting  ->  t0.date == 11/04/2008',\n",
       " 'ncvoter(t0) ⋀ ncvoter(t1) ⋀ t0.date == 11/06/2012 ⋀ t0.election_phase == t1.election_phase  ->  t0.election_phase == 11/06/2012',\n",
       " 'ncvoter(t0) ⋀ ncvoter(t1) ⋀ t0.election_phase == 11/08/2016 GENERAL ⋀ t0.voting_intention == t1.voting_intention  ->  t0.date == t1.date',\n",
       " 'ncvoter(t0) ⋀ ncvoter(t1) ⋀ t0.date == 11/06/2012 ⋀ t0.party == t1.party  ->  t0.election_phase == 11/06/2012',\n",
       " 'ncvoter(t0) ⋀ ncvoter(t1) ⋀ t0.county_id == t1.county_id ⋀ t0.election_phase == 11/06/2012 GENERAL  ->  t0.date == t1.date',\n",
       " 'ncvoter(t0) ⋀ ncvoter(t1) ⋀ t0.city_id3 == t1.city_id3 ⋀ t0.county_desc == t1.county_desc ⋀ t0.election_phase == 11/06/2012 GENERAL  ->  t0.city == t1.city',\n",
       " 'ncvoter(t0) ⋀ ncvoter(t1) ⋀ t0.city_id3 == t1.city_id3 ⋀ t0.county_id == t1.county_id ⋀ t0.election_phase == 11/02/2010 GENERAL ⋀ t0.voting_intention == t1.voting_intention  ->  t0.city_id == t1.city_id',\n",
       " 'ncvoter(t0) ⋀ ncvoter(t1) ⋀ t0.city_id2 == t1.city_id2 ⋀ t0.county_desc == t1.county_desc ⋀ t0.election_phase == 11/02/2010 GENERAL ⋀ t0.way_of_voting == t1.way_of_voting  ->  t0.city == t1.city',\n",
       " 'ncvoter(t0) ⋀ ncvoter(t1) ⋀ t0.city_id2 == t1.city_id2 ⋀ t0.county_id == t1.county_id ⋀ t0.election_phase == 11/06/2012 GENERAL  ->  t0.city == t1.city',\n",
       " 'ncvoter(t0) ⋀ ncvoter(t1) ⋀ t0.city_id3 == t1.city_id3 ⋀ t0.election_phase == 11/06/2012 GENERAL  ->  t0.date == t1.date',\n",
       " 'ncvoter(t0) ⋀ ncvoter(t1) ⋀ t0.county_id == t1.county_id ⋀ t0.election_phase == 11/02/2010 GENERAL  ->  t0.election_phase == t1.election_phase',\n",
       " 'ncvoter(t0) ⋀ ncvoter(t1) ⋀ t0.election_phase == 11/08/2016 GENERAL ⋀ t0.voting_intention == t1.voting_intention  ->  t0.date == 11/08/2016',\n",
       " 'ncvoter(t0) ⋀ ncvoter(t1) ⋀ t0.city_id3 == t1.city_id3 ⋀ t0.county_id == t1.county_id ⋀ t0.election_phase == 11/08/2016 GENERAL  ->  t0.city == t1.city',\n",
       " 'ncvoter(t0) ⋀ ncvoter(t1) ⋀ t0.election_phase == 11/08/2016 GENERAL ⋀ t0.voting_intention == t1.voting_intention  ->  t0.date == 11/08/2016',\n",
       " 'ncvoter(t0) ⋀ ncvoter(t1) ⋀ t0.city == t1.city  ->  t0.county_desc == t1.county_desc',\n",
       " 'ncvoter(t0) ⋀ ncvoter(t1) ⋀ t0.election_phase == 11/02/2010 GENERAL ⋀ t0.voting_intention == t1.voting_intention  ->  t0.election_phase == t1.election_phase',\n",
       " 'ncvoter(t0) ⋀ ncvoter(t1) ⋀ t0.city == t1.city ⋀ t0.election_phase == 05/06/2008 PRIMARY  ->  t0.election_phase == t1.election_phase',\n",
       " 'ncvoter(t0) ⋀ ncvoter(t1) ⋀ t0.election_phase == 11/04/2008 GENERAL ⋀ t0.voting_intention == t1.voting_intention  ->  t0.date == t1.date',\n",
       " 'ncvoter(t0) ⋀ ncvoter(t1) ⋀ t0.date == 11/06/2012 ⋀ t0.voting_intention == t1.voting_intention  ->  t0.election_phase == 11/06/2012',\n",
       " 'ncvoter(t0) ⋀ ncvoter(t1) ⋀ t0.city_id3 == t1.city_id3 ⋀ t0.county_id == t1.county_id ⋀ t0.election_phase == 11/02/2010 GENERAL ⋀ t0.party == t1.party  ->  t0.city == t1.city',\n",
       " 'ncvoter(t0) ⋀ ncvoter(t1) ⋀ t0.city_id3 == t1.city_id3  ->  t0.city_id == t1.city_id',\n",
       " 'ncvoter(t0) ⋀ ncvoter(t1) ⋀ t0.date == t1.date ⋀ t0.election_phase == 11/04/2008 GENERAL  ->  t0.date == 11/04/2008',\n",
       " 'ncvoter(t0) ⋀ ncvoter(t1) ⋀ t0.date == 11/06/2012 ⋀ t0.voting_intention == t1.voting_intention  ->  t0.election_phase == 11/06/2012',\n",
       " 'ncvoter(t0) ⋀ ncvoter(t1) ⋀ t0.city_id == t1.city_id ⋀ t0.election_phase == 11/04/2008 GENERAL  ->  t0.election_phase == t1.election_phase',\n",
       " 'ncvoter(t0) ⋀ ncvoter(t1) ⋀ t0.date == t1.date ⋀ t0.election_phase == 11/04/2008 GENERAL  ->  t0.date == 11/04/2008',\n",
       " 'ncvoter(t0) ⋀ ncvoter(t1) ⋀ t0.city_id3 == t1.city_id3 ⋀ t0.election_phase == 11/04/2014 GENERAL  ->  t0.election_phase == t1.election_phase',\n",
       " 'ncvoter(t0) ⋀ ncvoter(t1) ⋀ t0.election_phase == 11/04/2014 GENERAL ⋀ t0.way_of_voting == t1.way_of_voting  ->  t0.election_phase == t1.election_phase',\n",
       " 'ncvoter(t0) ⋀ ncvoter(t1) ⋀ t0.city_id2 == t1.city_id2 ⋀ t0.election_phase == 05/06/2008 PRIMARY  ->  t0.election_phase == t1.election_phase',\n",
       " 'ncvoter(t0) ⋀ ncvoter(t1) ⋀ t0.city_id2 == t1.city_id2 ⋀ t0.county_id == t1.county_id ⋀ t0.election_phase == 11/08/2016 GENERAL  ->  t0.city == t1.city',\n",
       " 'ncvoter(t0) ⋀ ncvoter(t1) ⋀ t0.county_id == t1.county_id ⋀ t0.election_phase == 11/08/2016 GENERAL  ->  t0.date == t1.date',\n",
       " 'ncvoter(t0) ⋀ ncvoter(t1) ⋀ t0.county_id == t1.county_id ⋀ t0.election_phase == 11/06/2012 GENERAL  ->  t0.date == t1.date',\n",
       " 'ncvoter(t0) ⋀ ncvoter(t1) ⋀ t0.city_id2 == t1.city_id2 ⋀ t0.county_id == t1.county_id ⋀ t0.election_phase == 11/04/2008 GENERAL  ->  t0.city == t1.city',\n",
       " 'ncvoter(t0) ⋀ ncvoter(t1) ⋀ t0.county_id == t1.county_id ⋀ t0.election_phase == 11/04/2008 GENERAL  ->  t0.date == t1.date',\n",
       " 'ncvoter(t0) ⋀ ncvoter(t1) ⋀ t0.voting_intention == t1.voting_intention  ->  t0.party == t1.party',\n",
       " 'ncvoter(t0) ⋀ ncvoter(t1) ⋀ t0.date == 11/04/2014 ⋀ t0.way_of_voting == t1.way_of_voting  ->  t0.election_phase == 11/04/2014',\n",
       " 'ncvoter(t0) ⋀ ncvoter(t1) ⋀ t0.county_desc == t1.county_desc ⋀ t0.election_phase == 11/08/2016 GENERAL  ->  t0.election_phase == t1.election_phase',\n",
       " 'ncvoter(t0) ⋀ ncvoter(t1) ⋀ t0.city_id3 == t1.city_id3 ⋀ t0.election_phase == 11/02/2010 GENERAL  ->  t0.election_phase == t1.election_phase',\n",
       " 'ncvoter(t0) ⋀ ncvoter(t1) ⋀ t0.election_phase == 11/04/2008 GENERAL ⋀ t0.voting_intention == t1.voting_intention  ->  t0.election_phase == t1.election_phase',\n",
       " 'ncvoter(t0) ⋀ ncvoter(t1) ⋀ t0.voting_intention == t1.voting_intention  ->  t0.party == t1.party',\n",
       " 'ncvoter(t0) ⋀ ncvoter(t1) ⋀ t0.election_phase == 11/04/2014 GENERAL ⋀ t0.party == t1.party  ->  t0.election_phase == t1.election_phase',\n",
       " 'ncvoter(t0) ⋀ ncvoter(t1) ⋀ t0.city_id2 == t1.city_id2 ⋀ t0.election_phase == 11/04/2008 GENERAL  ->  t0.election_phase == t1.election_phase',\n",
       " 'ncvoter(t0) ⋀ ncvoter(t1) ⋀ t0.city == t1.city  ->  t0.city_id == t1.city_id',\n",
       " 'ncvoter(t0) ⋀ ncvoter(t1) ⋀ t0.date == 11/04/2014 ⋀ t0.voting_intention == t1.voting_intention  ->  t0.election_phase == 11/04/2014',\n",
       " 'ncvoter(t0) ⋀ ncvoter(t1) ⋀ t0.city_id2 == t1.city_id2 ⋀ t0.county_desc == t1.county_desc ⋀ t0.election_phase == 11/02/2010 GENERAL  ->  t0.city == t1.city',\n",
       " 'ncvoter(t0) ⋀ ncvoter(t1) ⋀ t0.election_phase == 11/06/2012 GENERAL ⋀ t0.party == t1.party  ->  t0.date == 11/06/2012',\n",
       " 'ncvoter(t0) ⋀ ncvoter(t1) ⋀ t0.city_id3 == t1.city_id3 ⋀ t0.county_id == t1.county_id ⋀ t0.election_phase == 11/04/2014 GENERAL  ->  t0.city == t1.city',\n",
       " 'ncvoter(t0) ⋀ ncvoter(t1) ⋀ t0.date == 11/06/2012 ⋀ t0.way_of_voting == t1.way_of_voting  ->  t0.election_phase == 11/06/2012',\n",
       " 'ncvoter(t0) ⋀ ncvoter(t1) ⋀ t0.city_id2 == t1.city_id2 ⋀ t0.county_id == t1.county_id ⋀ t0.election_phase == 11/02/2010 GENERAL ⋀ t0.way_of_voting == t1.way_of_voting  ->  t0.city == t1.city',\n",
       " 'ncvoter(t0) ⋀ ncvoter(t1) ⋀ t0.election_phase == 11/04/2008 GENERAL ⋀ t0.voting_intention == t1.voting_intention  ->  t0.date == t1.date',\n",
       " 'ncvoter(t0) ⋀ ncvoter(t1) ⋀ t0.city_id3 == t1.city_id3 ⋀ t0.county_id == t1.county_id ⋀ t0.election_phase == 11/04/2014 GENERAL  ->  t0.city == t1.city',\n",
       " 'ncvoter(t0) ⋀ ncvoter(t1) ⋀ t0.city_id2 == t1.city_id2 ⋀ t0.county_id == t1.county_id ⋀ t0.election_phase == 11/02/2010 GENERAL  ->  t0.city == t1.city',\n",
       " 'ncvoter(t0) ⋀ ncvoter(t1) ⋀ t0.voting_intention == t1.voting_intention  ->  t0.party == t1.party',\n",
       " 'ncvoter(t0) ⋀ ncvoter(t1) ⋀ t0.date == 11/08/2016 ⋀ t0.way_of_voting == t1.way_of_voting  ->  t0.election_phase == 11/08/2016',\n",
       " 'ncvoter(t0) ⋀ ncvoter(t1) ⋀ t0.election_phase == 05/06/2008 PRIMARY ⋀ t0.way_of_voting == t1.way_of_voting  ->  t0.election_phase == t1.election_phase',\n",
       " 'ncvoter(t0) ⋀ ncvoter(t1) ⋀ t0.city_id2 == t1.city_id2 ⋀ t0.election_phase == 11/06/2012 GENERAL  ->  t0.date == t1.date',\n",
       " 'ncvoter(t0) ⋀ ncvoter(t1) ⋀ t0.election_phase == 11/06/2012 GENERAL ⋀ t0.way_of_voting == t1.way_of_voting  ->  t0.date == 11/06/2012',\n",
       " 'ncvoter(t0) ⋀ ncvoter(t1) ⋀ t0.city == t1.city ⋀ t0.election_phase == 11/02/2010 GENERAL  ->  t0.election_phase == t1.election_phase',\n",
       " 'ncvoter(t0) ⋀ ncvoter(t1) ⋀ t0.election_phase == 11/04/2008 GENERAL ⋀ t0.voting_intention == t1.voting_intention  ->  t0.date == 11/04/2008',\n",
       " 'ncvoter(t0) ⋀ ncvoter(t1) ⋀ t0.city_id2 == t1.city_id2 ⋀ t0.county_desc == t1.county_desc ⋀ t0.election_phase == 11/04/2008 GENERAL  ->  t0.city == t1.city',\n",
       " 'ncvoter(t0) ⋀ ncvoter(t1) ⋀ t0.date == t1.date ⋀ t0.election_phase == 11/04/2008 GENERAL  ->  t0.date == 11/04/2008',\n",
       " 'ncvoter(t0) ⋀ ncvoter(t1) ⋀ t0.city_id == t1.city_id ⋀ t0.county_desc == t1.county_desc  ->  t0.city == t1.city',\n",
       " 'ncvoter(t0) ⋀ ncvoter(t1) ⋀ t0.date == 11/06/2012 ⋀ t0.voting_intention == t1.voting_intention  ->  t0.election_phase == 11/06/2012',\n",
       " 'ncvoter(t0) ⋀ ncvoter(t1) ⋀ t0.date == 11/04/2014 ⋀ t0.way_of_voting == t1.way_of_voting  ->  t0.election_phase == 11/04/2014',\n",
       " 'ncvoter(t0) ⋀ ncvoter(t1) ⋀ t0.county_id == t1.county_id ⋀ t0.election_phase == 11/04/2008 GENERAL  ->  t0.date == t1.date',\n",
       " 'ncvoter(t0) ⋀ ncvoter(t1) ⋀ t0.city == t1.city ⋀ t0.election_phase == 05/06/2008 PRIMARY  ->  t0.election_phase == t1.election_phase',\n",
       " 'ncvoter(t0) ⋀ ncvoter(t1) ⋀ t0.city == t1.city ⋀ t0.election_phase == 05/06/2008 PRIMARY  ->  t0.election_phase == t1.election_phase',\n",
       " 'ncvoter(t0) ⋀ ncvoter(t1) ⋀ t0.city_id3 == t1.city_id3 ⋀ t0.election_phase == 11/04/2014 GENERAL  ->  t0.election_phase == t1.election_phase',\n",
       " 'ncvoter(t0) ⋀ ncvoter(t1) ⋀ t0.city == t1.city ⋀ t0.election_phase == 11/04/2014 GENERAL  ->  t0.date == t1.date',\n",
       " 'ncvoter(t0) ⋀ ncvoter(t1) ⋀ t0.city_id == t1.city_id ⋀ t0.election_phase == 11/08/2016 GENERAL  ->  t0.date == t1.date',\n",
       " 'ncvoter(t0) ⋀ ncvoter(t1) ⋀ t0.election_phase == 11/04/2014 GENERAL ⋀ t0.way_of_voting == t1.way_of_voting  ->  t0.election_phase == t1.election_phase',\n",
       " 'ncvoter(t0) ⋀ ncvoter(t1) ⋀ t0.county_desc == t1.county_desc ⋀ t0.election_phase == 11/04/2014 GENERAL  ->  t0.date == t1.date',\n",
       " 'ncvoter(t0) ⋀ ncvoter(t1) ⋀ t0.county_desc == t1.county_desc ⋀ t0.election_phase == 11/04/2008 GENERAL  ->  t0.election_phase == t1.election_phase',\n",
       " 'ncvoter(t0) ⋀ ncvoter(t1) ⋀ t0.election_phase == 11/04/2014 GENERAL ⋀ t0.voting_intention == t1.voting_intention  ->  t0.election_phase == t1.election_phase',\n",
       " 'ncvoter(t0) ⋀ ncvoter(t1) ⋀ t0.city_id2 == t1.city_id2 ⋀ t0.election_phase == 11/04/2014 GENERAL  ->  t0.date == t1.date',\n",
       " 'ncvoter(t0) ⋀ ncvoter(t1) ⋀ t0.county_id == t1.county_id ⋀ t0.election_phase == 11/04/2008 GENERAL  ->  t0.date == t1.date',\n",
       " 'ncvoter(t0) ⋀ ncvoter(t1) ⋀ t0.city_id3 == t1.city_id3 ⋀ t0.county_desc == t1.county_desc ⋀ t0.date == t1.date  ->  t0.city == t1.city',\n",
       " 'ncvoter(t0) ⋀ ncvoter(t1) ⋀ t0.city_id3 == t1.city_id3 ⋀ t0.county_id == t1.county_id ⋀ t0.election_phase == 11/02/2010 GENERAL ⋀ t0.way_of_voting == t1.way_of_voting  ->  t0.city_id == t1.city_id',\n",
       " 'ncvoter(t0) ⋀ ncvoter(t1) ⋀ t0.date == 11/08/2016 ⋀ t0.date == t1.date  ->  t0.election_phase == 11/08/2016',\n",
       " 'ncvoter(t0) ⋀ ncvoter(t1) ⋀ t0.city_id3 == t1.city_id3 ⋀ t0.county_id == t1.county_id ⋀ t0.election_phase == 11/08/2016 GENERAL  ->  t0.city == t1.city',\n",
       " 'ncvoter(t0) ⋀ ncvoter(t1) ⋀ t0.city_id == t1.city_id  ->  t0.city_id2 == t1.city_id2',\n",
       " 'ncvoter(t0) ⋀ ncvoter(t1) ⋀ t0.city_id3 == t1.city_id3 ⋀ t0.county_id == t1.county_id ⋀ t0.election_phase == 11/02/2010 GENERAL ⋀ t0.voting_intention == t1.voting_intention  ->  t0.city_id == t1.city_id',\n",
       " 'ncvoter(t0) ⋀ ncvoter(t1) ⋀ t0.city_id3 == t1.city_id3 ⋀ t0.election_phase == 11/08/2016 GENERAL  ->  t0.election_phase == t1.election_phase',\n",
       " 'ncvoter(t0) ⋀ ncvoter(t1) ⋀ t0.date == 11/04/2014 ⋀ t0.way_of_voting == t1.way_of_voting  ->  t0.election_phase == 11/04/2014',\n",
       " 'ncvoter(t0) ⋀ ncvoter(t1) ⋀ t0.date == t1.date ⋀ t0.election_phase == 11/04/2008 GENERAL  ->  t0.date == 11/04/2008',\n",
       " 'ncvoter(t0) ⋀ ncvoter(t1) ⋀ t0.city_id3 == t1.city_id3 ⋀ t0.election_phase == 11/02/2010 GENERAL  ->  t0.election_phase == t1.election_phase',\n",
       " 'ncvoter(t0) ⋀ ncvoter(t1) ⋀ t0.city_id == t1.city_id ⋀ t0.election_phase == 11/04/2008 GENERAL  ->  t0.election_phase == t1.election_phase',\n",
       " 'ncvoter(t0) ⋀ ncvoter(t1) ⋀ t0.city_id2 == t1.city_id2 ⋀ t0.county_desc == t1.county_desc ⋀ t0.election_phase == 11/04/2014 GENERAL  ->  t0.city == t1.city',\n",
       " 'ncvoter(t0) ⋀ ncvoter(t1) ⋀ t0.city == t1.city  ->  t0.county_id == t1.county_id',\n",
       " 'ncvoter(t0) ⋀ ncvoter(t1) ⋀ t0.city_id2 == t1.city_id2 ⋀ t0.county_desc == t1.county_desc ⋀ t0.election_phase == 11/04/2008 GENERAL  ->  t0.city == t1.city',\n",
       " 'ncvoter(t0) ⋀ ncvoter(t1) ⋀ t0.election_phase == 11/04/2008 GENERAL ⋀ t0.way_of_voting == t1.way_of_voting  ->  t0.date == t1.date',\n",
       " 'ncvoter(t0) ⋀ ncvoter(t1) ⋀ t0.election_phase == 11/04/2008 GENERAL ⋀ t0.way_of_voting == t1.way_of_voting  ->  t0.date == t1.date',\n",
       " 'ncvoter(t0) ⋀ ncvoter(t1) ⋀ t0.city_id3 == t1.city_id3 ⋀ t0.county_id == t1.county_id ⋀ t0.election_phase == 11/06/2012 GENERAL  ->  t0.city == t1.city',\n",
       " 'ncvoter(t0) ⋀ ncvoter(t1) ⋀ t0.date == 11/04/2008 ⋀ t0.voting_intention == t1.voting_intention  ->  t0.election_phase == 11/04/2008',\n",
       " 'ncvoter(t0) ⋀ ncvoter(t1) ⋀ t0.election_phase == 11/08/2016 GENERAL ⋀ t0.voting_intention == t1.voting_intention  ->  t0.date == t1.date',\n",
       " 'ncvoter(t0) ⋀ ncvoter(t1) ⋀ t0.date == 11/08/2016 ⋀ t0.party == t1.party  ->  t0.election_phase == 11/08/2016',\n",
       " 'ncvoter(t0) ⋀ ncvoter(t1) ⋀ t0.election_phase == 11/04/2008 GENERAL ⋀ t0.voting_intention == t1.voting_intention  ->  t0.date == 11/04/2008',\n",
       " 'ncvoter(t0) ⋀ ncvoter(t1) ⋀ t0.city_id3 == t1.city_id3  ->  t0.city_id == t1.city_id',\n",
       " 'ncvoter(t0) ⋀ ncvoter(t1) ⋀ t0.county_id == t1.county_id ⋀ t0.election_phase == 11/06/2012 GENERAL  ->  t0.date == t1.date',\n",
       " 'ncvoter(t0) ⋀ ncvoter(t1) ⋀ t0.county_desc == t1.county_desc ⋀ t0.election_phase == 05/06/2008 PRIMARY  ->  t0.date == t1.date',\n",
       " 'ncvoter(t0) ⋀ ncvoter(t1) ⋀ t0.election_phase == 11/04/2008 GENERAL ⋀ t0.way_of_voting == t1.way_of_voting  ->  t0.date == t1.date',\n",
       " 'ncvoter(t0) ⋀ ncvoter(t1) ⋀ t0.city_id2 == t1.city_id2 ⋀ t0.election_phase == 11/02/2010 GENERAL  ->  t0.election_phase == t1.election_phase',\n",
       " 'ncvoter(t0) ⋀ ncvoter(t1) ⋀ t0.city_id3 == t1.city_id3 ⋀ t0.county_id == t1.county_id ⋀ t0.election_phase == 11/02/2010 GENERAL ⋀ t0.voting_intention == t1.voting_intention  ->  t0.city_id == t1.city_id',\n",
       " 'ncvoter(t0) ⋀ ncvoter(t1) ⋀ t0.county_id == t1.county_id ⋀ t0.election_phase == 11/06/2012 GENERAL  ->  t0.date == t1.date',\n",
       " 'ncvoter(t0) ⋀ ncvoter(t1) ⋀ t0.city == t1.city ⋀ t0.election_phase == 05/06/2008 PRIMARY  ->  t0.election_phase == t1.election_phase',\n",
       " 'ncvoter(t0) ⋀ ncvoter(t1) ⋀ t0.city_id2 == t1.city_id2 ⋀ t0.county_desc == t1.county_desc ⋀ t0.election_phase == 11/02/2010 GENERAL ⋀ t0.voting_intention == t1.voting_intention  ->  t0.city == t1.city',\n",
       " 'ncvoter(t0) ⋀ ncvoter(t1) ⋀ t0.county_id == t1.county_id  ->  t0.county_desc == t1.county_desc',\n",
       " 'ncvoter(t0) ⋀ ncvoter(t1) ⋀ t0.date == t1.date ⋀ t0.election_phase == 11/04/2008 GENERAL  ->  t0.date == 11/04/2008',\n",
       " 'ncvoter(t0) ⋀ ncvoter(t1) ⋀ t0.city_id3 == t1.city_id3  ->  t0.city_id == t1.city_id',\n",
       " 'ncvoter(t0) ⋀ ncvoter(t1) ⋀ t0.city_id2 == t1.city_id2 ⋀ t0.county_desc == t1.county_desc ⋀ t0.election_phase == 11/04/2014 GENERAL  ->  t0.city == t1.city',\n",
       " 'ncvoter(t0) ⋀ ncvoter(t1) ⋀ t0.city_id == t1.city_id ⋀ t0.election_phase == 11/04/2008 GENERAL  ->  t0.date == t1.date',\n",
       " 'ncvoter(t0) ⋀ ncvoter(t1) ⋀ t0.city_id3 == t1.city_id3 ⋀ t0.county_desc == t1.county_desc ⋀ t0.election_phase == 11/04/2014 GENERAL  ->  t0.city == t1.city',\n",
       " 'ncvoter(t0) ⋀ ncvoter(t1) ⋀ t0.city_id2 == t1.city_id2  ->  t0.city_id3 == t1.city_id3',\n",
       " 'ncvoter(t0) ⋀ ncvoter(t1) ⋀ t0.date == 11/08/2016 ⋀ t0.date == t1.date  ->  t0.election_phase == 11/08/2016',\n",
       " 'ncvoter(t0) ⋀ ncvoter(t1) ⋀ t0.date == 11/04/2014 ⋀ t0.voting_intention == t1.voting_intention  ->  t0.election_phase == 11/04/2014',\n",
       " 'ncvoter(t0) ⋀ ncvoter(t1) ⋀ t0.date == t1.date ⋀ t0.election_phase == 11/04/2014 GENERAL  ->  t0.date == 11/04/2014',\n",
       " 'ncvoter(t0) ⋀ ncvoter(t1) ⋀ t0.date == 11/06/2012 ⋀ t0.voting_intention == t1.voting_intention  ->  t0.election_phase == 11/06/2012',\n",
       " 'ncvoter(t0) ⋀ ncvoter(t1) ⋀ t0.city_id2 == t1.city_id2 ⋀ t0.county_desc == t1.county_desc ⋀ t0.election_phase == 11/04/2014 GENERAL  ->  t0.city == t1.city',\n",
       " 'ncvoter(t0) ⋀ ncvoter(t1) ⋀ t0.city_id2 == t1.city_id2 ⋀ t0.election_phase == 11/02/2010 GENERAL  ->  t0.election_phase == t1.election_phase',\n",
       " 'ncvoter(t0) ⋀ ncvoter(t1) ⋀ t0.date == 11/04/2014 ⋀ t0.way_of_voting == t1.way_of_voting  ->  t0.election_phase == 11/04/2014',\n",
       " 'ncvoter(t0) ⋀ ncvoter(t1) ⋀ t0.county_id == t1.county_id ⋀ t0.election_phase == 11/04/2014 GENERAL  ->  t0.election_phase == t1.election_phase',\n",
       " 'ncvoter(t0) ⋀ ncvoter(t1) ⋀ t0.election_phase == 11/06/2012 GENERAL ⋀ t0.voting_intention == t1.voting_intention  ->  t0.election_phase == t1.election_phase',\n",
       " 'ncvoter(t0) ⋀ ncvoter(t1) ⋀ t0.city_id2 == t1.city_id2 ⋀ t0.county_id == t1.county_id ⋀ t0.election_phase == 11/02/2010 GENERAL ⋀ t0.way_of_voting == t1.way_of_voting  ->  t0.city_id == t1.city_id',\n",
       " 'ncvoter(t0) ⋀ ncvoter(t1) ⋀ t0.election_phase == 11/02/2010 GENERAL ⋀ t0.party == t1.party  ->  t0.election_phase == t1.election_phase',\n",
       " 'ncvoter(t0) ⋀ ncvoter(t1) ⋀ t0.city_id2 == t1.city_id2 ⋀ t0.election_phase == 11/02/2010 GENERAL  ->  t0.election_phase == t1.election_phase',\n",
       " 'ncvoter(t0) ⋀ ncvoter(t1) ⋀ t0.city == t1.city ⋀ t0.election_phase == 05/06/2008 PRIMARY  ->  t0.date == t1.date',\n",
       " 'ncvoter(t0) ⋀ ncvoter(t1) ⋀ t0.election_phase == 11/06/2012 GENERAL ⋀ t0.voting_intention == t1.voting_intention  ->  t0.election_phase == t1.election_phase',\n",
       " 'ncvoter(t0) ⋀ ncvoter(t1) ⋀ t0.election_phase == 11/02/2010 GENERAL ⋀ t0.voting_intention == t1.voting_intention  ->  t0.date == t1.date',\n",
       " 'ncvoter(t0) ⋀ ncvoter(t1) ⋀ t0.city_id2 == t1.city_id2 ⋀ t0.election_phase == 11/04/2008 GENERAL  ->  t0.date == t1.date',\n",
       " 'ncvoter(t0) ⋀ ncvoter(t1) ⋀ t0.city_id2 == t1.city_id2 ⋀ t0.election_phase == 11/08/2016 GENERAL  ->  t0.date == t1.date',\n",
       " 'ncvoter(t0) ⋀ ncvoter(t1) ⋀ t0.city_id3 == t1.city_id3 ⋀ t0.county_desc == t1.county_desc ⋀ t0.election_phase == 11/02/2010 GENERAL ⋀ t0.party == t1.party  ->  t0.city_id == t1.city_id',\n",
       " 'ncvoter(t0) ⋀ ncvoter(t1) ⋀ t0.city_id2 == t1.city_id2 ⋀ t0.county_id == t1.county_id ⋀ t0.election_phase == t1.election_phase  ->  t0.city == t1.city',\n",
       " 'ncvoter(t0) ⋀ ncvoter(t1) ⋀ t0.date == 11/04/2014 ⋀ t0.party == t1.party  ->  t0.election_phase == 11/04/2014',\n",
       " 'ncvoter(t0) ⋀ ncvoter(t1) ⋀ t0.election_phase == 11/06/2012 GENERAL ⋀ t0.voting_intention == t1.voting_intention  ->  t0.election_phase == t1.election_phase',\n",
       " 'ncvoter(t0) ⋀ ncvoter(t1) ⋀ t0.county_id == t1.county_id ⋀ t0.election_phase == 11/08/2016 GENERAL  ->  t0.date == t1.date',\n",
       " 'ncvoter(t0) ⋀ ncvoter(t1) ⋀ t0.county_desc == t1.county_desc ⋀ t0.election_phase == 05/06/2008 PRIMARY  ->  t0.date == t1.date',\n",
       " 'ncvoter(t0) ⋀ ncvoter(t1) ⋀ t0.city_id3 == t1.city_id3 ⋀ t0.county_id == t1.county_id ⋀ t0.election_phase == 11/02/2010 GENERAL ⋀ t0.voting_intention == t1.voting_intention  ->  t0.city == t1.city',\n",
       " 'ncvoter(t0) ⋀ ncvoter(t1) ⋀ t0.election_phase == 11/04/2008 GENERAL ⋀ t0.party == t1.party  ->  t0.election_phase == t1.election_phase',\n",
       " 'ncvoter(t0) ⋀ ncvoter(t1) ⋀ t0.city_id3 == t1.city_id3  ->  t0.city_id2 == t1.city_id2',\n",
       " 'ncvoter(t0) ⋀ ncvoter(t1) ⋀ t0.election_phase == 11/04/2008 GENERAL ⋀ t0.party == t1.party  ->  t0.election_phase == t1.election_phase',\n",
       " 'ncvoter(t0) ⋀ ncvoter(t1) ⋀ t0.city_id == t1.city_id  ->  t0.city_id2 == t1.city_id2',\n",
       " 'ncvoter(t0) ⋀ ncvoter(t1) ⋀ t0.city_id2 == t1.city_id2 ⋀ t0.election_phase == 11/06/2012 GENERAL  ->  t0.election_phase == t1.election_phase',\n",
       " 'ncvoter(t0) ⋀ ncvoter(t1) ⋀ t0.election_phase == 11/08/2016 GENERAL ⋀ t0.way_of_voting == t1.way_of_voting  ->  t0.election_phase == t1.election_phase',\n",
       " 'ncvoter(t0) ⋀ ncvoter(t1) ⋀ t0.city_id2 == t1.city_id2  ->  t0.city_id3 == t1.city_id3',\n",
       " 'ncvoter(t0) ⋀ ncvoter(t1) ⋀ t0.city_id3 == t1.city_id3 ⋀ t0.election_phase == 11/02/2010 GENERAL  ->  t0.date == t1.date',\n",
       " 'ncvoter(t0) ⋀ ncvoter(t1) ⋀ t0.city == t1.city ⋀ t0.election_phase == 11/04/2014 GENERAL  ->  t0.date == t1.date',\n",
       " 'ncvoter(t0) ⋀ ncvoter(t1) ⋀ t0.city_id2 == t1.city_id2 ⋀ t0.county_desc == t1.county_desc ⋀ t0.election_phase == 11/02/2010 GENERAL ⋀ t0.voting_intention == t1.voting_intention  ->  t0.city_id == t1.city_id',\n",
       " 'ncvoter(t0) ⋀ ncvoter(t1) ⋀ t0.city_id2 == t1.city_id2 ⋀ t0.election_phase == 11/08/2016 GENERAL  ->  t0.election_phase == t1.election_phase',\n",
       " 'ncvoter(t0) ⋀ ncvoter(t1) ⋀ t0.county_desc == t1.county_desc ⋀ t0.election_phase == 11/08/2016 GENERAL  ->  t0.date == t1.date',\n",
       " 'ncvoter(t0) ⋀ ncvoter(t1) ⋀ t0.city_id2 == t1.city_id2  ->  t0.city_id3 == t1.city_id3',\n",
       " 'ncvoter(t0) ⋀ ncvoter(t1) ⋀ t0.city_id3 == t1.city_id3 ⋀ t0.county_desc == t1.county_desc ⋀ t0.election_phase == 11/02/2010 GENERAL ⋀ t0.party == t1.party  ->  t0.city == t1.city',\n",
       " 'ncvoter(t0) ⋀ ncvoter(t1) ⋀ t0.election_phase == 11/04/2008 GENERAL ⋀ t0.party == t1.party  ->  t0.election_phase == t1.election_phase',\n",
       " 'ncvoter(t0) ⋀ ncvoter(t1) ⋀ t0.county_desc == t1.county_desc ⋀ t0.election_phase == 11/04/2014 GENERAL  ->  t0.date == t1.date',\n",
       " 'ncvoter(t0) ⋀ ncvoter(t1) ⋀ t0.election_phase == 11/08/2016 GENERAL ⋀ t0.voting_intention == t1.voting_intention  ->  t0.date == 11/08/2016',\n",
       " 'ncvoter(t0) ⋀ ncvoter(t1) ⋀ t0.election_phase == 05/06/2008 PRIMARY ⋀ t0.way_of_voting == t1.way_of_voting  ->  t0.election_phase == t1.election_phase',\n",
       " 'ncvoter(t0) ⋀ ncvoter(t1) ⋀ t0.city_id3 == t1.city_id3 ⋀ t0.county_desc == t1.county_desc ⋀ t0.election_phase == 11/02/2010 GENERAL ⋀ t0.way_of_voting == t1.way_of_voting  ->  t0.city_id == t1.city_id',\n",
       " 'ncvoter(t0) ⋀ ncvoter(t1) ⋀ t0.city_id == t1.city_id  ->  t0.city_id3 == t1.city_id3',\n",
       " 'ncvoter(t0) ⋀ ncvoter(t1) ⋀ t0.city_id3 == t1.city_id3 ⋀ t0.election_phase == 11/04/2008 GENERAL  ->  t0.election_phase == t1.election_phase',\n",
       " 'ncvoter(t0) ⋀ ncvoter(t1) ⋀ t0.date == 11/08/2016 ⋀ t0.way_of_voting == t1.way_of_voting  ->  t0.election_phase == 11/08/2016',\n",
       " 'ncvoter(t0) ⋀ ncvoter(t1) ⋀ t0.date == t1.date ⋀ t0.election_phase == 11/04/2014 GENERAL  ->  t0.date == 11/04/2014',\n",
       " 'ncvoter(t0) ⋀ ncvoter(t1) ⋀ t0.city_id3 == t1.city_id3 ⋀ t0.county_desc == t1.county_desc ⋀ t0.election_phase == 11/02/2010 GENERAL ⋀ t0.party == t1.party  ->  t0.city == t1.city',\n",
       " 'ncvoter(t0) ⋀ ncvoter(t1) ⋀ t0.city_id2 == t1.city_id2 ⋀ t0.election_phase == 05/06/2008 PRIMARY  ->  t0.election_phase == t1.election_phase',\n",
       " 'ncvoter(t0) ⋀ ncvoter(t1) ⋀ t0.election_phase == 11/06/2012 GENERAL ⋀ t0.voting_intention == t1.voting_intention  ->  t0.date == 11/06/2012',\n",
       " 'ncvoter(t0) ⋀ ncvoter(t1) ⋀ t0.election_phase == 11/06/2012 GENERAL ⋀ t0.way_of_voting == t1.way_of_voting  ->  t0.date == t1.date',\n",
       " 'ncvoter(t0) ⋀ ncvoter(t1) ⋀ t0.city == t1.city  ->  t0.city_id == t1.city_id',\n",
       " 'ncvoter(t0) ⋀ ncvoter(t1) ⋀ t0.city_id3 == t1.city_id3 ⋀ t0.county_desc == t1.county_desc ⋀ t0.election_phase == 11/02/2010 GENERAL ⋀ t0.party == t1.party  ->  t0.city == t1.city',\n",
       " 'ncvoter(t0) ⋀ ncvoter(t1) ⋀ t0.county_id == t1.county_id ⋀ t0.election_phase == 11/04/2014 GENERAL  ->  t0.election_phase == t1.election_phase',\n",
       " 'ncvoter(t0) ⋀ ncvoter(t1) ⋀ t0.county_desc == t1.county_desc ⋀ t0.election_phase == 11/04/2008 GENERAL  ->  t0.election_phase == t1.election_phase',\n",
       " 'ncvoter(t0) ⋀ ncvoter(t1) ⋀ t0.county_id == t1.county_id ⋀ t0.election_phase == 11/02/2010 GENERAL  ->  t0.date == t1.date',\n",
       " 'ncvoter(t0) ⋀ ncvoter(t1) ⋀ t0.city_id3 == t1.city_id3 ⋀ t0.county_id == t1.county_id ⋀ t0.election_phase == t1.election_phase  ->  t0.city == t1.city',\n",
       " 'ncvoter(t0) ⋀ ncvoter(t1) ⋀ t0.date == 11/08/2016 ⋀ t0.way_of_voting == t1.way_of_voting  ->  t0.election_phase == 11/08/2016',\n",
       " 'ncvoter(t0) ⋀ ncvoter(t1) ⋀ t0.county_id == t1.county_id ⋀ t0.election_phase == 11/06/2012 GENERAL  ->  t0.election_phase == t1.election_phase',\n",
       " 'ncvoter(t0) ⋀ ncvoter(t1) ⋀ t0.city_id3 == t1.city_id3 ⋀ t0.county_id == t1.county_id ⋀ t0.election_phase == 11/08/2016 GENERAL  ->  t0.city == t1.city',\n",
       " 'ncvoter(t0) ⋀ ncvoter(t1) ⋀ t0.city_id2 == t1.city_id2 ⋀ t0.county_desc == t1.county_desc ⋀ t0.election_phase == 11/02/2010 GENERAL ⋀ t0.party == t1.party  ->  t0.city == t1.city',\n",
       " 'ncvoter(t0) ⋀ ncvoter(t1) ⋀ t0.date == 11/08/2016 ⋀ t0.party == t1.party  ->  t0.election_phase == 11/08/2016',\n",
       " 'ncvoter(t0) ⋀ ncvoter(t1) ⋀ t0.city_id2 == t1.city_id2 ⋀ t0.election_phase == 11/08/2016 GENERAL  ->  t0.election_phase == t1.election_phase',\n",
       " 'ncvoter(t0) ⋀ ncvoter(t1) ⋀ t0.county_id == t1.county_id ⋀ t0.election_phase == 11/04/2014 GENERAL  ->  t0.election_phase == t1.election_phase',\n",
       " 'ncvoter(t0) ⋀ ncvoter(t1) ⋀ t0.city_id3 == t1.city_id3 ⋀ t0.county_id == t1.county_id ⋀ t0.election_phase == 05/06/2008 PRIMARY  ->  t0.city == t1.city',\n",
       " 'ncvoter(t0) ⋀ ncvoter(t1) ⋀ t0.city_id2 == t1.city_id2 ⋀ t0.county_desc == t1.county_desc ⋀ t0.election_phase == 11/02/2010 GENERAL  ->  t0.city == t1.city',\n",
       " 'ncvoter(t0) ⋀ ncvoter(t1) ⋀ t0.voting_intention == t1.voting_intention  ->  t0.party == t1.party',\n",
       " 'ncvoter(t0) ⋀ ncvoter(t1) ⋀ t0.city_id3 == t1.city_id3 ⋀ t0.county_id == t1.county_id ⋀ t0.election_phase == 11/04/2008 GENERAL  ->  t0.city == t1.city',\n",
       " 'ncvoter(t0) ⋀ ncvoter(t1) ⋀ t0.election_phase == 11/04/2014 GENERAL ⋀ t0.way_of_voting == t1.way_of_voting  ->  t0.election_phase == t1.election_phase',\n",
       " 'ncvoter(t0) ⋀ ncvoter(t1) ⋀ t0.city_id2 == t1.city_id2 ⋀ t0.election_phase == 11/08/2016 GENERAL  ->  t0.date == t1.date',\n",
       " 'ncvoter(t0) ⋀ ncvoter(t1) ⋀ t0.county_id == t1.county_id ⋀ t0.election_phase == 11/04/2008 GENERAL  ->  t0.date == t1.date',\n",
       " 'ncvoter(t0) ⋀ ncvoter(t1) ⋀ t0.city_id == t1.city_id ⋀ t0.election_phase == 11/04/2008 GENERAL  ->  t0.election_phase == t1.election_phase',\n",
       " 'ncvoter(t0) ⋀ ncvoter(t1) ⋀ t0.city_id2 == t1.city_id2 ⋀ t0.county_id == t1.county_id ⋀ t0.election_phase == 11/02/2010 GENERAL ⋀ t0.way_of_voting == t1.way_of_voting  ->  t0.city == t1.city',\n",
       " 'ncvoter(t0) ⋀ ncvoter(t1) ⋀ t0.city_id2 == t1.city_id2 ⋀ t0.county_id == t1.county_id ⋀ t0.election_phase == 11/02/2010 GENERAL  ->  t0.city == t1.city',\n",
       " 'ncvoter(t0) ⋀ ncvoter(t1) ⋀ t0.city_id2 == t1.city_id2 ⋀ t0.election_phase == 11/02/2010 GENERAL  ->  t0.election_phase == t1.election_phase',\n",
       " 'ncvoter(t0) ⋀ ncvoter(t1) ⋀ t0.election_phase == 11/04/2014 GENERAL ⋀ t0.way_of_voting == t1.way_of_voting  ->  t0.date == 11/04/2014',\n",
       " 'ncvoter(t0) ⋀ ncvoter(t1) ⋀ t0.city_id2 == t1.city_id2 ⋀ t0.election_phase == 11/08/2016 GENERAL  ->  t0.date == t1.date',\n",
       " 'ncvoter(t0) ⋀ ncvoter(t1) ⋀ t0.city_id3 == t1.city_id3 ⋀ t0.election_phase == 11/04/2014 GENERAL  ->  t0.election_phase == t1.election_phase',\n",
       " 'ncvoter(t0) ⋀ ncvoter(t1) ⋀ t0.voting_intention == t1.voting_intention  ->  t0.party == t1.party',\n",
       " 'ncvoter(t0) ⋀ ncvoter(t1) ⋀ t0.voting_intention == t1.voting_intention  ->  t0.party == t1.party',\n",
       " 'ncvoter(t0) ⋀ ncvoter(t1) ⋀ t0.date == 11/08/2016 ⋀ t0.date == t1.date  ->  t0.election_phase == 11/08/2016',\n",
       " 'ncvoter(t0) ⋀ ncvoter(t1) ⋀ t0.election_phase == 11/08/2016 GENERAL ⋀ t0.way_of_voting == t1.way_of_voting  ->  t0.election_phase == t1.election_phase',\n",
       " 'ncvoter(t0) ⋀ ncvoter(t1) ⋀ t0.election_phase == 11/06/2012 GENERAL ⋀ t0.voting_intention == t1.voting_intention  ->  t0.date == 11/06/2012',\n",
       " 'ncvoter(t0) ⋀ ncvoter(t1) ⋀ t0.date == 11/08/2016 ⋀ t0.date == t1.date  ->  t0.election_phase == 11/08/2016',\n",
       " 'ncvoter(t0) ⋀ ncvoter(t1) ⋀ t0.election_phase == 11/04/2008 GENERAL ⋀ t0.voting_intention == t1.voting_intention  ->  t0.date == t1.date',\n",
       " 'ncvoter(t0) ⋀ ncvoter(t1) ⋀ t0.city_id3 == t1.city_id3 ⋀ t0.county_id == t1.county_id ⋀ t0.election_phase == 11/08/2016 GENERAL  ->  t0.city == t1.city',\n",
       " 'ncvoter(t0) ⋀ ncvoter(t1) ⋀ t0.city_id3 == t1.city_id3 ⋀ t0.county_desc == t1.county_desc ⋀ t0.election_phase == 11/02/2010 GENERAL ⋀ t0.voting_intention == t1.voting_intention  ->  t0.city_id == t1.city_id',\n",
       " 'ncvoter(t0) ⋀ ncvoter(t1) ⋀ t0.city_id3 == t1.city_id3 ⋀ t0.county_id == t1.county_id ⋀ t0.election_phase == 11/04/2008 GENERAL  ->  t0.city == t1.city',\n",
       " 'ncvoter(t0) ⋀ ncvoter(t1) ⋀ t0.election_phase == 05/06/2008 PRIMARY ⋀ t0.way_of_voting == t1.way_of_voting  ->  t0.election_phase == t1.election_phase',\n",
       " 'ncvoter(t0) ⋀ ncvoter(t1) ⋀ t0.city_id3 == t1.city_id3 ⋀ t0.county_desc == t1.county_desc ⋀ t0.election_phase == 11/04/2008 GENERAL  ->  t0.city == t1.city',\n",
       " 'ncvoter(t0) ⋀ ncvoter(t1) ⋀ t0.city_id2 == t1.city_id2 ⋀ t0.county_desc == t1.county_desc ⋀ t0.election_phase == 05/06/2008 PRIMARY  ->  t0.city == t1.city',\n",
       " 'ncvoter(t0) ⋀ ncvoter(t1) ⋀ t0.city_id3 == t1.city_id3  ->  t0.city_id == t1.city_id',\n",
       " 'ncvoter(t0) ⋀ ncvoter(t1) ⋀ t0.county_desc == t1.county_desc ⋀ t0.election_phase == 11/06/2012 GENERAL  ->  t0.election_phase == t1.election_phase',\n",
       " 'ncvoter(t0) ⋀ ncvoter(t1) ⋀ t0.city_id == t1.city_id ⋀ t0.election_phase == 11/06/2012 GENERAL  ->  t0.election_phase == t1.election_phase',\n",
       " 'ncvoter(t0) ⋀ ncvoter(t1) ⋀ t0.city_id3 == t1.city_id3 ⋀ t0.county_desc == t1.county_desc ⋀ t0.election_phase == 11/02/2010 GENERAL  ->  t0.city == t1.city',\n",
       " 'ncvoter(t0) ⋀ ncvoter(t1) ⋀ t0.city == t1.city ⋀ t0.election_phase == 11/08/2016 GENERAL  ->  t0.date == t1.date',\n",
       " 'ncvoter(t0) ⋀ ncvoter(t1) ⋀ t0.date == 11/04/2008 ⋀ t0.election_phase == t1.election_phase  ->  t0.election_phase == 11/04/2008',\n",
       " 'ncvoter(t0) ⋀ ncvoter(t1) ⋀ t0.city == t1.city  ->  t0.city_id3 == t1.city_id3',\n",
       " 'ncvoter(t0) ⋀ ncvoter(t1) ⋀ t0.city_id3 == t1.city_id3 ⋀ t0.county_desc == t1.county_desc ⋀ t0.election_phase == 11/04/2014 GENERAL  ->  t0.city == t1.city',\n",
       " 'ncvoter(t0) ⋀ ncvoter(t1) ⋀ t0.city_id2 == t1.city_id2 ⋀ t0.county_desc == t1.county_desc ⋀ t0.election_phase == 11/06/2012 GENERAL  ->  t0.city == t1.city',\n",
       " 'ncvoter(t0) ⋀ ncvoter(t1) ⋀ t0.city_id2 == t1.city_id2 ⋀ t0.election_phase == 11/04/2014 GENERAL  ->  t0.election_phase == t1.election_phase',\n",
       " 'ncvoter(t0) ⋀ ncvoter(t1) ⋀ t0.election_phase == 11/04/2008 GENERAL ⋀ t0.party == t1.party  ->  t0.date == 11/04/2008',\n",
       " 'ncvoter(t0) ⋀ ncvoter(t1) ⋀ t0.city_id3 == t1.city_id3 ⋀ t0.county_id == t1.county_id ⋀ t0.election_phase == 11/04/2008 GENERAL  ->  t0.city == t1.city',\n",
       " 'ncvoter(t0) ⋀ ncvoter(t1) ⋀ t0.city_id2 == t1.city_id2 ⋀ t0.election_phase == 11/04/2008 GENERAL  ->  t0.election_phase == t1.election_phase',\n",
       " 'ncvoter(t0) ⋀ ncvoter(t1) ⋀ t0.city == t1.city  ->  t0.county_desc == t1.county_desc',\n",
       " 'ncvoter(t0) ⋀ ncvoter(t1) ⋀ t0.city_id3 == t1.city_id3 ⋀ t0.county_id == t1.county_id ⋀ t0.election_phase == 11/02/2010 GENERAL ⋀ t0.way_of_voting == t1.way_of_voting  ->  t0.city == t1.city',\n",
       " 'ncvoter(t0) ⋀ ncvoter(t1) ⋀ t0.city_id2 == t1.city_id2 ⋀ t0.election_phase == 11/08/2016 GENERAL  ->  t0.election_phase == t1.election_phase',\n",
       " 'ncvoter(t0) ⋀ ncvoter(t1) ⋀ t0.election_phase == 11/08/2016 GENERAL ⋀ t0.party == t1.party  ->  t0.election_phase == t1.election_phase',\n",
       " 'ncvoter(t0) ⋀ ncvoter(t1) ⋀ t0.election_phase == 11/08/2016 GENERAL ⋀ t0.voting_intention == t1.voting_intention  ->  t0.date == 11/08/2016',\n",
       " 'ncvoter(t0) ⋀ ncvoter(t1) ⋀ t0.election_phase == 11/08/2016 GENERAL ⋀ t0.party == t1.party  ->  t0.date == t1.date',\n",
       " 'ncvoter(t0) ⋀ ncvoter(t1) ⋀ t0.date == 11/04/2008 ⋀ t0.date == t1.date  ->  t0.election_phase == 11/04/2008',\n",
       " 'ncvoter(t0) ⋀ ncvoter(t1) ⋀ t0.city_id3 == t1.city_id3 ⋀ t0.county_id == t1.county_id ⋀ t0.election_phase == t1.election_phase  ->  t0.city == t1.city',\n",
       " 'ncvoter(t0) ⋀ ncvoter(t1) ⋀ t0.city_id2 == t1.city_id2 ⋀ t0.county_desc == t1.county_desc ⋀ t0.election_phase == 11/02/2010 GENERAL ⋀ t0.party == t1.party  ->  t0.city_id == t1.city_id',\n",
       " 'ncvoter(t0) ⋀ ncvoter(t1) ⋀ t0.election_phase == 11/04/2014 GENERAL ⋀ t0.party == t1.party  ->  t0.election_phase == t1.election_phase',\n",
       " 'ncvoter(t0) ⋀ ncvoter(t1) ⋀ t0.city_id3 == t1.city_id3 ⋀ t0.county_desc == t1.county_desc ⋀ t0.election_phase == 11/02/2010 GENERAL ⋀ t0.party == t1.party  ->  t0.city_id == t1.city_id',\n",
       " 'ncvoter(t0) ⋀ ncvoter(t1) ⋀ t0.county_id == t1.county_id ⋀ t0.election_phase == 11/04/2014 GENERAL  ->  t0.election_phase == t1.election_phase',\n",
       " 'ncvoter(t0) ⋀ ncvoter(t1) ⋀ t0.election_phase == 11/04/2008 GENERAL ⋀ t0.party == t1.party  ->  t0.date == 11/04/2008',\n",
       " 'ncvoter(t0) ⋀ ncvoter(t1) ⋀ t0.election_phase == 11/02/2010 GENERAL ⋀ t0.voting_intention == t1.voting_intention  ->  t0.election_phase == t1.election_phase',\n",
       " 'ncvoter(t0) ⋀ ncvoter(t1) ⋀ t0.city_id3 == t1.city_id3 ⋀ t0.county_id == t1.county_id ⋀ t0.election_phase == 11/04/2008 GENERAL  ->  t0.city == t1.city',\n",
       " 'ncvoter(t0) ⋀ ncvoter(t1) ⋀ t0.city_id2 == t1.city_id2 ⋀ t0.county_id == t1.county_id ⋀ t0.election_phase == 11/02/2010 GENERAL  ->  t0.city == t1.city',\n",
       " 'ncvoter(t0) ⋀ ncvoter(t1) ⋀ t0.city_id3 == t1.city_id3 ⋀ t0.county_id == t1.county_id ⋀ t0.election_phase == t1.election_phase  ->  t0.city == t1.city',\n",
       " 'ncvoter(t0) ⋀ ncvoter(t1) ⋀ t0.city_id3 == t1.city_id3 ⋀ t0.county_desc == t1.county_desc ⋀ t0.election_phase == 11/02/2010 GENERAL  ->  t0.city == t1.city',\n",
       " 'ncvoter(t0) ⋀ ncvoter(t1) ⋀ t0.county_id == t1.county_id ⋀ t0.election_phase == 11/04/2014 GENERAL  ->  t0.date == t1.date',\n",
       " 'ncvoter(t0) ⋀ ncvoter(t1) ⋀ t0.city_id == t1.city_id ⋀ t0.county_desc == t1.county_desc  ->  t0.city == t1.city',\n",
       " 'ncvoter(t0) ⋀ ncvoter(t1) ⋀ t0.city_id == t1.city_id ⋀ t0.election_phase == 11/02/2010 GENERAL  ->  t0.date == t1.date',\n",
       " 'ncvoter(t0) ⋀ ncvoter(t1) ⋀ t0.date == 11/08/2016 ⋀ t0.party == t1.party  ->  t0.election_phase == 11/08/2016',\n",
       " 'ncvoter(t0) ⋀ ncvoter(t1) ⋀ t0.city_id3 == t1.city_id3 ⋀ t0.county_desc == t1.county_desc ⋀ t0.election_phase == 11/06/2012 GENERAL  ->  t0.city == t1.city',\n",
       " 'ncvoter(t0) ⋀ ncvoter(t1) ⋀ t0.city_id2 == t1.city_id2 ⋀ t0.county_desc == t1.county_desc ⋀ t0.election_phase == 11/02/2010 GENERAL ⋀ t0.voting_intention == t1.voting_intention  ->  t0.city_id == t1.city_id',\n",
       " 'ncvoter(t0) ⋀ ncvoter(t1) ⋀ t0.city_id3 == t1.city_id3 ⋀ t0.county_id == t1.county_id ⋀ t0.election_phase == 11/04/2008 GENERAL  ->  t0.city == t1.city',\n",
       " 'ncvoter(t0) ⋀ ncvoter(t1) ⋀ t0.date == 11/04/2014 ⋀ t0.way_of_voting == t1.way_of_voting  ->  t0.election_phase == 11/04/2014',\n",
       " 'ncvoter(t0) ⋀ ncvoter(t1) ⋀ t0.city_id2 == t1.city_id2 ⋀ t0.election_phase == 11/06/2012 GENERAL  ->  t0.election_phase == t1.election_phase',\n",
       " 'ncvoter(t0) ⋀ ncvoter(t1) ⋀ t0.city == t1.city  ->  t0.city_id2 == t1.city_id2',\n",
       " 'ncvoter(t0) ⋀ ncvoter(t1) ⋀ t0.county_desc == t1.county_desc ⋀ t0.election_phase == 11/06/2012 GENERAL  ->  t0.election_phase == t1.election_phase',\n",
       " 'ncvoter(t0) ⋀ ncvoter(t1) ⋀ t0.date == 11/06/2012 ⋀ t0.way_of_voting == t1.way_of_voting  ->  t0.election_phase == 11/06/2012',\n",
       " 'ncvoter(t0) ⋀ ncvoter(t1) ⋀ t0.election_phase == 11/08/2016 GENERAL ⋀ t0.voting_intention == t1.voting_intention  ->  t0.date == 11/08/2016',\n",
       " 'ncvoter(t0) ⋀ ncvoter(t1) ⋀ t0.city_id == t1.city_id ⋀ t0.election_phase == 11/04/2014 GENERAL  ->  t0.date == t1.date',\n",
       " 'ncvoter(t0) ⋀ ncvoter(t1) ⋀ t0.election_phase == 11/08/2016 GENERAL ⋀ t0.voting_intention == t1.voting_intention  ->  t0.date == 11/08/2016',\n",
       " 'ncvoter(t0) ⋀ ncvoter(t1) ⋀ t0.election_phase == 11/06/2012 GENERAL ⋀ t0.party == t1.party  ->  t0.election_phase == t1.election_phase',\n",
       " 'ncvoter(t0) ⋀ ncvoter(t1) ⋀ t0.city_id3 == t1.city_id3 ⋀ t0.county_id == t1.county_id ⋀ t0.election_phase == t1.election_phase  ->  t0.city == t1.city',\n",
       " 'ncvoter(t0) ⋀ ncvoter(t1) ⋀ t0.county_id == t1.county_id  ->  t0.county_desc == t1.county_desc',\n",
       " 'ncvoter(t0) ⋀ ncvoter(t1) ⋀ t0.city_id == t1.city_id  ->  t0.city_id3 == t1.city_id3',\n",
       " 'ncvoter(t0) ⋀ ncvoter(t1) ⋀ t0.date == 11/04/2008 ⋀ t0.way_of_voting == t1.way_of_voting  ->  t0.election_phase == 11/04/2008',\n",
       " 'ncvoter(t0) ⋀ ncvoter(t1) ⋀ t0.city_id3 == t1.city_id3 ⋀ t0.election_phase == 05/06/2008 PRIMARY  ->  t0.date == t1.date']"
      ]
     },
     "execution_count": 36,
     "metadata": {},
     "output_type": "execute_result"
    }
   ],
   "source": [
    "train_dataset['train']['rule_left']"
   ]
  },
  {
   "cell_type": "code",
   "execution_count": 37,
   "metadata": {},
   "outputs": [
    {
     "data": {
      "text/plain": [
       "DatasetDict({\n",
       "    train: Dataset({\n",
       "        features: ['rule_left', 'rule_right', 'label'],\n",
       "        num_rows: 287\n",
       "    })\n",
       "    validation: Dataset({\n",
       "        features: ['rule_left', 'rule_right', 'label'],\n",
       "        num_rows: 159\n",
       "    })\n",
       "    test: Dataset({\n",
       "        features: ['rule_left', 'rule_right', 'label'],\n",
       "        num_rows: 161\n",
       "    })\n",
       "})"
      ]
     },
     "execution_count": 37,
     "metadata": {},
     "output_type": "execute_result"
    }
   ],
   "source": [
    "dataset = train_dataset\n",
    "dataset['validation'] = valid_dataset['train']\n",
    "dataset['test'] = test_dataset['train']\n",
    "# dataset['train'] = dataset['train']\n",
    "dataset"
   ]
  },
  {
   "cell_type": "code",
   "execution_count": 38,
   "metadata": {},
   "outputs": [
    {
     "name": "stderr",
     "output_type": "stream",
     "text": [
      "loading configuration file https://huggingface.co/distilbert-base-uncased/resolve/main/config.json from cache at /home/yaoshuw/.cache/huggingface/transformers/23454919702d26495337f3da04d1655c7ee010d5ec9d77bdb9e399e00302c0a1.91b885ab15d631bf9cee9dc9d25ece0afd932f2f5130eba28f2055b2220c0333\n",
      "Model config DistilBertConfig {\n",
      "  \"activation\": \"gelu\",\n",
      "  \"architectures\": [\n",
      "    \"DistilBertForMaskedLM\"\n",
      "  ],\n",
      "  \"attention_dropout\": 0.1,\n",
      "  \"dim\": 768,\n",
      "  \"dropout\": 0.1,\n",
      "  \"hidden_dim\": 3072,\n",
      "  \"initializer_range\": 0.02,\n",
      "  \"max_position_embeddings\": 512,\n",
      "  \"model_type\": \"distilbert\",\n",
      "  \"n_heads\": 12,\n",
      "  \"n_layers\": 6,\n",
      "  \"pad_token_id\": 0,\n",
      "  \"qa_dropout\": 0.1,\n",
      "  \"seq_classif_dropout\": 0.2,\n",
      "  \"sinusoidal_pos_embds\": false,\n",
      "  \"tie_weights_\": true,\n",
      "  \"transformers_version\": \"4.12.2\",\n",
      "  \"vocab_size\": 30522\n",
      "}\n",
      "\n",
      "loading file https://huggingface.co/distilbert-base-uncased/resolve/main/vocab.txt from cache at /home/yaoshuw/.cache/huggingface/transformers/0e1bbfda7f63a99bb52e3915dcf10c3c92122b827d92eb2d34ce94ee79ba486c.d789d64ebfe299b0e416afc4a169632f903f693095b4629a7ea271d5a0cf2c99\n",
      "loading file https://huggingface.co/distilbert-base-uncased/resolve/main/tokenizer.json from cache at /home/yaoshuw/.cache/huggingface/transformers/75abb59d7a06f4f640158a9bfcde005264e59e8d566781ab1415b139d2e4c603.7f2721073f19841be16f41b0a70b600ca6b880c8f3df6f3535cbc704371bdfa4\n",
      "loading file https://huggingface.co/distilbert-base-uncased/resolve/main/added_tokens.json from cache at None\n",
      "loading file https://huggingface.co/distilbert-base-uncased/resolve/main/special_tokens_map.json from cache at None\n",
      "loading file https://huggingface.co/distilbert-base-uncased/resolve/main/tokenizer_config.json from cache at /home/yaoshuw/.cache/huggingface/transformers/8c8624b8ac8aa99c60c912161f8332de003484428c47906d7ff7eb7f73eecdbb.20430bd8e10ef77a7d2977accefe796051e01bc2fc4aa146bc862997a1a15e79\n",
      "loading configuration file https://huggingface.co/distilbert-base-uncased/resolve/main/config.json from cache at /home/yaoshuw/.cache/huggingface/transformers/23454919702d26495337f3da04d1655c7ee010d5ec9d77bdb9e399e00302c0a1.91b885ab15d631bf9cee9dc9d25ece0afd932f2f5130eba28f2055b2220c0333\n",
      "Model config DistilBertConfig {\n",
      "  \"activation\": \"gelu\",\n",
      "  \"architectures\": [\n",
      "    \"DistilBertForMaskedLM\"\n",
      "  ],\n",
      "  \"attention_dropout\": 0.1,\n",
      "  \"dim\": 768,\n",
      "  \"dropout\": 0.1,\n",
      "  \"hidden_dim\": 3072,\n",
      "  \"initializer_range\": 0.02,\n",
      "  \"max_position_embeddings\": 512,\n",
      "  \"model_type\": \"distilbert\",\n",
      "  \"n_heads\": 12,\n",
      "  \"n_layers\": 6,\n",
      "  \"pad_token_id\": 0,\n",
      "  \"qa_dropout\": 0.1,\n",
      "  \"seq_classif_dropout\": 0.2,\n",
      "  \"sinusoidal_pos_embds\": false,\n",
      "  \"tie_weights_\": true,\n",
      "  \"transformers_version\": \"4.12.2\",\n",
      "  \"vocab_size\": 30522\n",
      "}\n",
      "\n"
     ]
    }
   ],
   "source": [
    "from transformers import AutoTokenizer\n",
    "batch_size = 16\n",
    "\n",
    "tokenizer = AutoTokenizer.from_pretrained(model_checkpoint_, use_fast=True)"
   ]
  },
  {
   "cell_type": "code",
   "execution_count": 39,
   "metadata": {},
   "outputs": [
    {
     "data": {
      "text/plain": [
       "'ncvoter(t0) ⋀ ncvoter(t1) ⋀ t0.city_id2 == t1.city_id2 ⋀ t0.election_phase == 05/06/2008 PRIMARY  ->  t0.election_phase == t1.election_phase'"
      ]
     },
     "execution_count": 39,
     "metadata": {},
     "output_type": "execute_result"
    }
   ],
   "source": [
    "rule1_key, rule2_key = 'rule_left', 'rule_right'\n",
    "\n",
    "dataset['train'][0][rule1_key]"
   ]
  },
  {
   "cell_type": "code",
   "execution_count": 40,
   "metadata": {},
   "outputs": [],
   "source": [
    "def preprocess_function(examples):\n",
    "    return tokenizer(examples[rule1_key], examples[rule2_key], truncation=True)"
   ]
  },
  {
   "cell_type": "code",
   "execution_count": 41,
   "metadata": {},
   "outputs": [
    {
     "data": {
      "text/plain": [
       "{'input_ids': [[101, 13316, 22994, 2121, 1006, 1056, 2692, 1007, 100, 13316, 22994, 2121, 1006, 1056, 2487, 1007, 100, 1056, 2692, 1012, 2103, 1035, 8909, 2475, 1027, 1027, 1056, 2487, 1012, 2103, 1035, 8909, 2475, 100, 1056, 2692, 1012, 2602, 1035, 4403, 1027, 1027, 5709, 1013, 5757, 1013, 2263, 3078, 1011, 1028, 1056, 2692, 1012, 2602, 1035, 4403, 1027, 1027, 1056, 2487, 1012, 2602, 1035, 4403, 102, 13316, 22994, 2121, 1006, 1056, 2692, 1007, 100, 13316, 22994, 2121, 1006, 1056, 2487, 1007, 100, 1056, 2692, 1012, 2103, 1035, 8909, 2475, 1027, 1027, 1056, 2487, 1012, 2103, 1035, 8909, 2475, 100, 1056, 2692, 1012, 2221, 1035, 8909, 1027, 1027, 1056, 2487, 1012, 2221, 1035, 8909, 100, 1056, 2692, 1012, 2602, 1035, 4403, 1027, 1027, 2340, 1013, 6185, 1013, 2230, 2236, 100, 1056, 2692, 1012, 2126, 1035, 1997, 1035, 6830, 1027, 1027, 1056, 2487, 1012, 2126, 1035, 1997, 1035, 6830, 1011, 1028, 1056, 2692, 1012, 2103, 1027, 1027, 1056, 2487, 1012, 2103, 102], [101, 13316, 22994, 2121, 1006, 1056, 2692, 1007, 100, 13316, 22994, 2121, 1006, 1056, 2487, 1007, 100, 1056, 2692, 1012, 2221, 1035, 8909, 1027, 1027, 1056, 2487, 1012, 2221, 1035, 8909, 100, 1056, 2692, 1012, 2602, 1035, 4403, 1027, 1027, 2340, 1013, 5511, 1013, 2355, 2236, 1011, 1028, 1056, 2692, 1012, 2602, 1035, 4403, 1027, 1027, 1056, 2487, 1012, 2602, 1035, 4403, 102, 13316, 22994, 2121, 1006, 1056, 2692, 1007, 100, 13316, 22994, 2121, 1006, 1056, 2487, 1007, 100, 1056, 2692, 1012, 2103, 1027, 1027, 1056, 2487, 1012, 2103, 100, 1056, 2692, 1012, 2602, 1035, 4403, 1027, 1027, 2340, 1013, 5511, 1013, 2355, 2236, 1011, 1028, 1056, 2692, 1012, 3058, 1027, 1027, 1056, 2487, 1012, 3058, 102]], 'attention_mask': [[1, 1, 1, 1, 1, 1, 1, 1, 1, 1, 1, 1, 1, 1, 1, 1, 1, 1, 1, 1, 1, 1, 1, 1, 1, 1, 1, 1, 1, 1, 1, 1, 1, 1, 1, 1, 1, 1, 1, 1, 1, 1, 1, 1, 1, 1, 1, 1, 1, 1, 1, 1, 1, 1, 1, 1, 1, 1, 1, 1, 1, 1, 1, 1, 1, 1, 1, 1, 1, 1, 1, 1, 1, 1, 1, 1, 1, 1, 1, 1, 1, 1, 1, 1, 1, 1, 1, 1, 1, 1, 1, 1, 1, 1, 1, 1, 1, 1, 1, 1, 1, 1, 1, 1, 1, 1, 1, 1, 1, 1, 1, 1, 1, 1, 1, 1, 1, 1, 1, 1, 1, 1, 1, 1, 1, 1, 1, 1, 1, 1, 1, 1, 1, 1, 1, 1, 1, 1, 1, 1, 1, 1, 1, 1, 1, 1, 1, 1, 1, 1, 1, 1, 1, 1, 1, 1, 1, 1, 1], [1, 1, 1, 1, 1, 1, 1, 1, 1, 1, 1, 1, 1, 1, 1, 1, 1, 1, 1, 1, 1, 1, 1, 1, 1, 1, 1, 1, 1, 1, 1, 1, 1, 1, 1, 1, 1, 1, 1, 1, 1, 1, 1, 1, 1, 1, 1, 1, 1, 1, 1, 1, 1, 1, 1, 1, 1, 1, 1, 1, 1, 1, 1, 1, 1, 1, 1, 1, 1, 1, 1, 1, 1, 1, 1, 1, 1, 1, 1, 1, 1, 1, 1, 1, 1, 1, 1, 1, 1, 1, 1, 1, 1, 1, 1, 1, 1, 1, 1, 1, 1, 1, 1, 1, 1, 1, 1, 1, 1, 1, 1, 1, 1, 1, 1, 1, 1]]}"
      ]
     },
     "execution_count": 41,
     "metadata": {},
     "output_type": "execute_result"
    }
   ],
   "source": [
    "preprocess_function(dataset['train'][:2])"
   ]
  },
  {
   "cell_type": "code",
   "execution_count": 42,
   "metadata": {},
   "outputs": [],
   "source": [
    "#tokenizer.decode(_['input_ids'][0])"
   ]
  },
  {
   "cell_type": "code",
   "execution_count": 43,
   "metadata": {},
   "outputs": [
    {
     "data": {
      "application/vnd.jupyter.widget-view+json": {
       "model_id": "b5ad98fc47ec487fb025dc56d2ceaf44",
       "version_major": 2,
       "version_minor": 0
      },
      "text/plain": [
       "  0%|          | 0/1 [00:00<?, ?ba/s]"
      ]
     },
     "metadata": {},
     "output_type": "display_data"
    },
    {
     "data": {
      "application/vnd.jupyter.widget-view+json": {
       "model_id": "0c17cef732624180b4175eed52a6bc03",
       "version_major": 2,
       "version_minor": 0
      },
      "text/plain": [
       "  0%|          | 0/1 [00:00<?, ?ba/s]"
      ]
     },
     "metadata": {},
     "output_type": "display_data"
    },
    {
     "name": "stderr",
     "output_type": "stream",
     "text": [
      "Loading cached processed dataset at /home/yaoshuw/.cache/huggingface/datasets/csv/default-ca5a24981ae80192/0.0.0/e138af468cb14e747fb46a19c787ffcfa5170c821476d20d5304287ce12bbc23/cache-8e6e44eab850c17a.arrow\n"
     ]
    },
    {
     "data": {
      "text/plain": [
       "DatasetDict({\n",
       "    train: Dataset({\n",
       "        features: ['attention_mask', 'input_ids', 'label', 'rule_left', 'rule_right'],\n",
       "        num_rows: 287\n",
       "    })\n",
       "    validation: Dataset({\n",
       "        features: ['attention_mask', 'input_ids', 'label', 'rule_left', 'rule_right'],\n",
       "        num_rows: 159\n",
       "    })\n",
       "    test: Dataset({\n",
       "        features: ['attention_mask', 'input_ids', 'label', 'rule_left', 'rule_right'],\n",
       "        num_rows: 161\n",
       "    })\n",
       "})"
      ]
     },
     "execution_count": 43,
     "metadata": {},
     "output_type": "execute_result"
    }
   ],
   "source": [
    "encoded_dataset = dataset.map(preprocess_function, batched=True)\n",
    "encoded_dataset"
   ]
  },
  {
   "cell_type": "code",
   "execution_count": 44,
   "metadata": {},
   "outputs": [
    {
     "data": {
      "text/plain": [
       "DatasetDict({\n",
       "    train: Dataset({\n",
       "        features: ['attention_mask', 'input_ids', 'label', 'rule_left', 'rule_right'],\n",
       "        num_rows: 287\n",
       "    })\n",
       "    validation: Dataset({\n",
       "        features: ['attention_mask', 'input_ids', 'label', 'rule_left', 'rule_right'],\n",
       "        num_rows: 159\n",
       "    })\n",
       "    test: Dataset({\n",
       "        features: ['attention_mask', 'input_ids', 'label', 'rule_left', 'rule_right'],\n",
       "        num_rows: 161\n",
       "    })\n",
       "})"
      ]
     },
     "execution_count": 44,
     "metadata": {},
     "output_type": "execute_result"
    }
   ],
   "source": [
    "encoded_dataset"
   ]
  },
  {
   "cell_type": "code",
   "execution_count": 45,
   "metadata": {},
   "outputs": [
    {
     "name": "stderr",
     "output_type": "stream",
     "text": [
      "loading configuration file https://huggingface.co/distilbert-base-uncased/resolve/main/config.json from cache at /home/yaoshuw/.cache/huggingface/transformers/23454919702d26495337f3da04d1655c7ee010d5ec9d77bdb9e399e00302c0a1.91b885ab15d631bf9cee9dc9d25ece0afd932f2f5130eba28f2055b2220c0333\n",
      "Model config DistilBertConfig {\n",
      "  \"activation\": \"gelu\",\n",
      "  \"architectures\": [\n",
      "    \"DistilBertForMaskedLM\"\n",
      "  ],\n",
      "  \"attention_dropout\": 0.1,\n",
      "  \"dim\": 768,\n",
      "  \"dropout\": 0.1,\n",
      "  \"hidden_dim\": 3072,\n",
      "  \"initializer_range\": 0.02,\n",
      "  \"max_position_embeddings\": 512,\n",
      "  \"model_type\": \"distilbert\",\n",
      "  \"n_heads\": 12,\n",
      "  \"n_layers\": 6,\n",
      "  \"pad_token_id\": 0,\n",
      "  \"qa_dropout\": 0.1,\n",
      "  \"seq_classif_dropout\": 0.2,\n",
      "  \"sinusoidal_pos_embds\": false,\n",
      "  \"tie_weights_\": true,\n",
      "  \"transformers_version\": \"4.12.2\",\n",
      "  \"vocab_size\": 30522\n",
      "}\n",
      "\n",
      "loading weights file https://huggingface.co/distilbert-base-uncased/resolve/main/pytorch_model.bin from cache at /home/yaoshuw/.cache/huggingface/transformers/9c169103d7e5a73936dd2b627e42851bec0831212b677c637033ee4bce9ab5ee.126183e36667471617ae2f0835fab707baa54b731f991507ebbb55ea85adb12a\n",
      "Some weights of the model checkpoint at distilbert-base-uncased were not used when initializing DistilBertForSequenceClassification: ['vocab_transform.weight', 'vocab_projector.bias', 'vocab_layer_norm.weight', 'vocab_projector.weight', 'vocab_transform.bias', 'vocab_layer_norm.bias']\n",
      "- This IS expected if you are initializing DistilBertForSequenceClassification from the checkpoint of a model trained on another task or with another architecture (e.g. initializing a BertForSequenceClassification model from a BertForPreTraining model).\n",
      "- This IS NOT expected if you are initializing DistilBertForSequenceClassification from the checkpoint of a model that you expect to be exactly identical (initializing a BertForSequenceClassification model from a BertForSequenceClassification model).\n",
      "Some weights of DistilBertForSequenceClassification were not initialized from the model checkpoint at distilbert-base-uncased and are newly initialized: ['classifier.bias', 'pre_classifier.weight', 'classifier.weight', 'pre_classifier.bias']\n",
      "You should probably TRAIN this model on a down-stream task to be able to use it for predictions and inference.\n"
     ]
    }
   ],
   "source": [
    "from transformers import AutoModelForSequenceClassification, TrainingArguments, Trainer\n",
    "\n",
    "num_labels = 2\n",
    "model = AutoModelForSequenceClassification.from_pretrained(model_checkpoint, num_labels=num_labels)"
   ]
  },
  {
   "cell_type": "code",
   "execution_count": 46,
   "metadata": {},
   "outputs": [
    {
     "name": "stderr",
     "output_type": "stream",
     "text": [
      "PyTorch: setting up devices\n",
      "The default value for the training argument `--report_to` will change in v5 (from all installed integrations to none). In v5, you will need to use `--report_to all` to get the same behavior as now. You should start updating your code and make this info disappear :-).\n",
      "Using the `WAND_DISABLED` environment variable is deprecated and will be removed in v5. Use the --report_to flag to control the integrations used for logging result (for instance --report_to none).\n"
     ]
    }
   ],
   "source": [
    "metric = 'accuracy'\n",
    "model_name = model_checkpoint.split(\"/\")[-1]\n",
    "\n",
    "args = TrainingArguments(output_dir=saved_model_path,\n",
    "                        evaluation_strategy='epoch',\n",
    "                        save_strategy='epoch',\n",
    "                        learning_rate=2e-5,\n",
    "                        per_device_train_batch_size=batch_size,\n",
    "                        per_device_eval_batch_size=batch_size,\n",
    "                        num_train_epochs=20,\n",
    "                        weight_decay=0.01,\n",
    "                        load_best_model_at_end=True,\n",
    "                        metric_for_best_model='accuracy',\n",
    "                        push_to_hub=False)"
   ]
  },
  {
   "cell_type": "code",
   "execution_count": 47,
   "metadata": {},
   "outputs": [],
   "source": [
    "\n",
    "# >>> metrics.precision_score(y_true, y_pred)\n",
    "# 1.0\n",
    "# >>> metrics.recall_score(y_true, y_pred)\n",
    "# 0.5\n",
    "# >>> metrics.f1_score(y_true, y_pred)\n",
    "# accuracy_score(y_true, y_pred)\n",
    "from sklearn import metrics\n",
    "import numpy as np\n",
    "def compute_metrics(eval_pred):\n",
    "    predictions, labels = eval_pred\n",
    "    predictions = np.argmax(predictions, axis=1)\n",
    "    #print(predictions, labels)\n",
    "    precision = metrics.precision_score(labels, predictions)\n",
    "    recall = metrics.recall_score(labels, predictions)\n",
    "    f1 = metrics.f1_score(labels, predictions)\n",
    "    acc = metrics.accuracy_score(labels, predictions)\n",
    "    return {'precision': precision, 'recall': recall, 'f1': f1, 'accuracy': acc}\n",
    "\n",
    "\n",
    "trainer = Trainer(model, args, train_dataset=encoded_dataset['train'], eval_dataset=encoded_dataset['validation'], tokenizer=tokenizer, compute_metrics=compute_metrics)\n"
   ]
  },
  {
   "cell_type": "code",
   "execution_count": 48,
   "metadata": {},
   "outputs": [],
   "source": [
    "\n",
    "os.environ[\"WANDB_DISABLED\"] = \"true\""
   ]
  },
  {
   "cell_type": "code",
   "execution_count": 49,
   "metadata": {},
   "outputs": [
    {
     "name": "stderr",
     "output_type": "stream",
     "text": [
      "The following columns in the training set  don't have a corresponding argument in `DistilBertForSequenceClassification.forward` and have been ignored: rule_left, rule_right.\n",
      "***** Running training *****\n",
      "  Num examples = 287\n",
      "  Num Epochs = 20\n",
      "  Instantaneous batch size per device = 16\n",
      "  Total train batch size (w. parallel, distributed & accumulation) = 16\n",
      "  Gradient Accumulation steps = 1\n",
      "  Total optimization steps = 360\n"
     ]
    },
    {
     "data": {
      "text/html": [
       "\n",
       "    <div>\n",
       "      \n",
       "      <progress value='360' max='360' style='width:300px; height:20px; vertical-align: middle;'></progress>\n",
       "      [360/360 01:58, Epoch 20/20]\n",
       "    </div>\n",
       "    <table border=\"1\" class=\"dataframe\">\n",
       "  <thead>\n",
       "    <tr style=\"text-align: left;\">\n",
       "      <th>Epoch</th>\n",
       "      <th>Training Loss</th>\n",
       "      <th>Validation Loss</th>\n",
       "      <th>Precision</th>\n",
       "      <th>Recall</th>\n",
       "      <th>F1</th>\n",
       "      <th>Accuracy</th>\n",
       "    </tr>\n",
       "  </thead>\n",
       "  <tbody>\n",
       "    <tr>\n",
       "      <td>1</td>\n",
       "      <td>No log</td>\n",
       "      <td>0.686866</td>\n",
       "      <td>0.750000</td>\n",
       "      <td>0.862069</td>\n",
       "      <td>0.802139</td>\n",
       "      <td>0.767296</td>\n",
       "    </tr>\n",
       "    <tr>\n",
       "      <td>2</td>\n",
       "      <td>No log</td>\n",
       "      <td>0.544434</td>\n",
       "      <td>0.835616</td>\n",
       "      <td>0.701149</td>\n",
       "      <td>0.762500</td>\n",
       "      <td>0.761006</td>\n",
       "    </tr>\n",
       "    <tr>\n",
       "      <td>3</td>\n",
       "      <td>No log</td>\n",
       "      <td>0.410372</td>\n",
       "      <td>0.754545</td>\n",
       "      <td>0.954023</td>\n",
       "      <td>0.842640</td>\n",
       "      <td>0.805031</td>\n",
       "    </tr>\n",
       "    <tr>\n",
       "      <td>4</td>\n",
       "      <td>No log</td>\n",
       "      <td>0.429843</td>\n",
       "      <td>0.806452</td>\n",
       "      <td>0.862069</td>\n",
       "      <td>0.833333</td>\n",
       "      <td>0.811321</td>\n",
       "    </tr>\n",
       "    <tr>\n",
       "      <td>5</td>\n",
       "      <td>No log</td>\n",
       "      <td>0.370292</td>\n",
       "      <td>0.790476</td>\n",
       "      <td>0.954023</td>\n",
       "      <td>0.864583</td>\n",
       "      <td>0.836478</td>\n",
       "    </tr>\n",
       "    <tr>\n",
       "      <td>6</td>\n",
       "      <td>No log</td>\n",
       "      <td>0.358550</td>\n",
       "      <td>0.970149</td>\n",
       "      <td>0.747126</td>\n",
       "      <td>0.844156</td>\n",
       "      <td>0.849057</td>\n",
       "    </tr>\n",
       "    <tr>\n",
       "      <td>7</td>\n",
       "      <td>No log</td>\n",
       "      <td>0.335749</td>\n",
       "      <td>0.913580</td>\n",
       "      <td>0.850575</td>\n",
       "      <td>0.880952</td>\n",
       "      <td>0.874214</td>\n",
       "    </tr>\n",
       "    <tr>\n",
       "      <td>8</td>\n",
       "      <td>No log</td>\n",
       "      <td>0.345857</td>\n",
       "      <td>0.892857</td>\n",
       "      <td>0.862069</td>\n",
       "      <td>0.877193</td>\n",
       "      <td>0.867925</td>\n",
       "    </tr>\n",
       "    <tr>\n",
       "      <td>9</td>\n",
       "      <td>No log</td>\n",
       "      <td>0.412219</td>\n",
       "      <td>0.816327</td>\n",
       "      <td>0.919540</td>\n",
       "      <td>0.864865</td>\n",
       "      <td>0.842767</td>\n",
       "    </tr>\n",
       "    <tr>\n",
       "      <td>10</td>\n",
       "      <td>No log</td>\n",
       "      <td>0.401997</td>\n",
       "      <td>0.831579</td>\n",
       "      <td>0.908046</td>\n",
       "      <td>0.868132</td>\n",
       "      <td>0.849057</td>\n",
       "    </tr>\n",
       "    <tr>\n",
       "      <td>11</td>\n",
       "      <td>No log</td>\n",
       "      <td>0.404471</td>\n",
       "      <td>0.903614</td>\n",
       "      <td>0.862069</td>\n",
       "      <td>0.882353</td>\n",
       "      <td>0.874214</td>\n",
       "    </tr>\n",
       "    <tr>\n",
       "      <td>12</td>\n",
       "      <td>No log</td>\n",
       "      <td>0.424483</td>\n",
       "      <td>0.900000</td>\n",
       "      <td>0.827586</td>\n",
       "      <td>0.862275</td>\n",
       "      <td>0.855346</td>\n",
       "    </tr>\n",
       "    <tr>\n",
       "      <td>13</td>\n",
       "      <td>No log</td>\n",
       "      <td>0.460945</td>\n",
       "      <td>0.857143</td>\n",
       "      <td>0.896552</td>\n",
       "      <td>0.876404</td>\n",
       "      <td>0.861635</td>\n",
       "    </tr>\n",
       "    <tr>\n",
       "      <td>14</td>\n",
       "      <td>No log</td>\n",
       "      <td>0.471440</td>\n",
       "      <td>0.922078</td>\n",
       "      <td>0.816092</td>\n",
       "      <td>0.865854</td>\n",
       "      <td>0.861635</td>\n",
       "    </tr>\n",
       "    <tr>\n",
       "      <td>15</td>\n",
       "      <td>No log</td>\n",
       "      <td>0.518550</td>\n",
       "      <td>0.866667</td>\n",
       "      <td>0.896552</td>\n",
       "      <td>0.881356</td>\n",
       "      <td>0.867925</td>\n",
       "    </tr>\n",
       "    <tr>\n",
       "      <td>16</td>\n",
       "      <td>No log</td>\n",
       "      <td>0.520850</td>\n",
       "      <td>0.885057</td>\n",
       "      <td>0.885057</td>\n",
       "      <td>0.885057</td>\n",
       "      <td>0.874214</td>\n",
       "    </tr>\n",
       "    <tr>\n",
       "      <td>17</td>\n",
       "      <td>No log</td>\n",
       "      <td>0.501710</td>\n",
       "      <td>0.894118</td>\n",
       "      <td>0.873563</td>\n",
       "      <td>0.883721</td>\n",
       "      <td>0.874214</td>\n",
       "    </tr>\n",
       "    <tr>\n",
       "      <td>18</td>\n",
       "      <td>No log</td>\n",
       "      <td>0.514747</td>\n",
       "      <td>0.895349</td>\n",
       "      <td>0.885057</td>\n",
       "      <td>0.890173</td>\n",
       "      <td>0.880503</td>\n",
       "    </tr>\n",
       "    <tr>\n",
       "      <td>19</td>\n",
       "      <td>No log</td>\n",
       "      <td>0.529047</td>\n",
       "      <td>0.895349</td>\n",
       "      <td>0.885057</td>\n",
       "      <td>0.890173</td>\n",
       "      <td>0.880503</td>\n",
       "    </tr>\n",
       "    <tr>\n",
       "      <td>20</td>\n",
       "      <td>No log</td>\n",
       "      <td>0.533592</td>\n",
       "      <td>0.883721</td>\n",
       "      <td>0.873563</td>\n",
       "      <td>0.878613</td>\n",
       "      <td>0.867925</td>\n",
       "    </tr>\n",
       "  </tbody>\n",
       "</table><p>"
      ],
      "text/plain": [
       "<IPython.core.display.HTML object>"
      ]
     },
     "metadata": {},
     "output_type": "display_data"
    },
    {
     "name": "stderr",
     "output_type": "stream",
     "text": [
      "The following columns in the evaluation set  don't have a corresponding argument in `DistilBertForSequenceClassification.forward` and have been ignored: rule_left, rule_right.\n",
      "***** Running Evaluation *****\n",
      "  Num examples = 159\n",
      "  Batch size = 16\n",
      "Saving model checkpoint to ./saved_models/ncvoter-distilbert-base-uncased-finetune/checkpoint-18\n",
      "Configuration saved in ./saved_models/ncvoter-distilbert-base-uncased-finetune/checkpoint-18/config.json\n",
      "Model weights saved in ./saved_models/ncvoter-distilbert-base-uncased-finetune/checkpoint-18/pytorch_model.bin\n",
      "tokenizer config file saved in ./saved_models/ncvoter-distilbert-base-uncased-finetune/checkpoint-18/tokenizer_config.json\n",
      "Special tokens file saved in ./saved_models/ncvoter-distilbert-base-uncased-finetune/checkpoint-18/special_tokens_map.json\n",
      "The following columns in the evaluation set  don't have a corresponding argument in `DistilBertForSequenceClassification.forward` and have been ignored: rule_left, rule_right.\n",
      "***** Running Evaluation *****\n",
      "  Num examples = 159\n",
      "  Batch size = 16\n",
      "Saving model checkpoint to ./saved_models/ncvoter-distilbert-base-uncased-finetune/checkpoint-36\n",
      "Configuration saved in ./saved_models/ncvoter-distilbert-base-uncased-finetune/checkpoint-36/config.json\n",
      "Model weights saved in ./saved_models/ncvoter-distilbert-base-uncased-finetune/checkpoint-36/pytorch_model.bin\n",
      "tokenizer config file saved in ./saved_models/ncvoter-distilbert-base-uncased-finetune/checkpoint-36/tokenizer_config.json\n",
      "Special tokens file saved in ./saved_models/ncvoter-distilbert-base-uncased-finetune/checkpoint-36/special_tokens_map.json\n",
      "The following columns in the evaluation set  don't have a corresponding argument in `DistilBertForSequenceClassification.forward` and have been ignored: rule_left, rule_right.\n",
      "***** Running Evaluation *****\n",
      "  Num examples = 159\n",
      "  Batch size = 16\n",
      "Saving model checkpoint to ./saved_models/ncvoter-distilbert-base-uncased-finetune/checkpoint-54\n",
      "Configuration saved in ./saved_models/ncvoter-distilbert-base-uncased-finetune/checkpoint-54/config.json\n",
      "Model weights saved in ./saved_models/ncvoter-distilbert-base-uncased-finetune/checkpoint-54/pytorch_model.bin\n",
      "tokenizer config file saved in ./saved_models/ncvoter-distilbert-base-uncased-finetune/checkpoint-54/tokenizer_config.json\n",
      "Special tokens file saved in ./saved_models/ncvoter-distilbert-base-uncased-finetune/checkpoint-54/special_tokens_map.json\n",
      "The following columns in the evaluation set  don't have a corresponding argument in `DistilBertForSequenceClassification.forward` and have been ignored: rule_left, rule_right.\n",
      "***** Running Evaluation *****\n",
      "  Num examples = 159\n",
      "  Batch size = 16\n",
      "Saving model checkpoint to ./saved_models/ncvoter-distilbert-base-uncased-finetune/checkpoint-72\n",
      "Configuration saved in ./saved_models/ncvoter-distilbert-base-uncased-finetune/checkpoint-72/config.json\n",
      "Model weights saved in ./saved_models/ncvoter-distilbert-base-uncased-finetune/checkpoint-72/pytorch_model.bin\n",
      "tokenizer config file saved in ./saved_models/ncvoter-distilbert-base-uncased-finetune/checkpoint-72/tokenizer_config.json\n",
      "Special tokens file saved in ./saved_models/ncvoter-distilbert-base-uncased-finetune/checkpoint-72/special_tokens_map.json\n",
      "The following columns in the evaluation set  don't have a corresponding argument in `DistilBertForSequenceClassification.forward` and have been ignored: rule_left, rule_right.\n",
      "***** Running Evaluation *****\n",
      "  Num examples = 159\n",
      "  Batch size = 16\n",
      "Saving model checkpoint to ./saved_models/ncvoter-distilbert-base-uncased-finetune/checkpoint-90\n",
      "Configuration saved in ./saved_models/ncvoter-distilbert-base-uncased-finetune/checkpoint-90/config.json\n",
      "Model weights saved in ./saved_models/ncvoter-distilbert-base-uncased-finetune/checkpoint-90/pytorch_model.bin\n",
      "tokenizer config file saved in ./saved_models/ncvoter-distilbert-base-uncased-finetune/checkpoint-90/tokenizer_config.json\n",
      "Special tokens file saved in ./saved_models/ncvoter-distilbert-base-uncased-finetune/checkpoint-90/special_tokens_map.json\n",
      "The following columns in the evaluation set  don't have a corresponding argument in `DistilBertForSequenceClassification.forward` and have been ignored: rule_left, rule_right.\n",
      "***** Running Evaluation *****\n",
      "  Num examples = 159\n",
      "  Batch size = 16\n",
      "Saving model checkpoint to ./saved_models/ncvoter-distilbert-base-uncased-finetune/checkpoint-108\n",
      "Configuration saved in ./saved_models/ncvoter-distilbert-base-uncased-finetune/checkpoint-108/config.json\n",
      "Model weights saved in ./saved_models/ncvoter-distilbert-base-uncased-finetune/checkpoint-108/pytorch_model.bin\n",
      "tokenizer config file saved in ./saved_models/ncvoter-distilbert-base-uncased-finetune/checkpoint-108/tokenizer_config.json\n",
      "Special tokens file saved in ./saved_models/ncvoter-distilbert-base-uncased-finetune/checkpoint-108/special_tokens_map.json\n",
      "The following columns in the evaluation set  don't have a corresponding argument in `DistilBertForSequenceClassification.forward` and have been ignored: rule_left, rule_right.\n",
      "***** Running Evaluation *****\n",
      "  Num examples = 159\n",
      "  Batch size = 16\n",
      "Saving model checkpoint to ./saved_models/ncvoter-distilbert-base-uncased-finetune/checkpoint-126\n",
      "Configuration saved in ./saved_models/ncvoter-distilbert-base-uncased-finetune/checkpoint-126/config.json\n",
      "Model weights saved in ./saved_models/ncvoter-distilbert-base-uncased-finetune/checkpoint-126/pytorch_model.bin\n",
      "tokenizer config file saved in ./saved_models/ncvoter-distilbert-base-uncased-finetune/checkpoint-126/tokenizer_config.json\n",
      "Special tokens file saved in ./saved_models/ncvoter-distilbert-base-uncased-finetune/checkpoint-126/special_tokens_map.json\n",
      "The following columns in the evaluation set  don't have a corresponding argument in `DistilBertForSequenceClassification.forward` and have been ignored: rule_left, rule_right.\n",
      "***** Running Evaluation *****\n",
      "  Num examples = 159\n",
      "  Batch size = 16\n",
      "Saving model checkpoint to ./saved_models/ncvoter-distilbert-base-uncased-finetune/checkpoint-144\n",
      "Configuration saved in ./saved_models/ncvoter-distilbert-base-uncased-finetune/checkpoint-144/config.json\n",
      "Model weights saved in ./saved_models/ncvoter-distilbert-base-uncased-finetune/checkpoint-144/pytorch_model.bin\n",
      "tokenizer config file saved in ./saved_models/ncvoter-distilbert-base-uncased-finetune/checkpoint-144/tokenizer_config.json\n",
      "Special tokens file saved in ./saved_models/ncvoter-distilbert-base-uncased-finetune/checkpoint-144/special_tokens_map.json\n",
      "The following columns in the evaluation set  don't have a corresponding argument in `DistilBertForSequenceClassification.forward` and have been ignored: rule_left, rule_right.\n",
      "***** Running Evaluation *****\n",
      "  Num examples = 159\n",
      "  Batch size = 16\n",
      "Saving model checkpoint to ./saved_models/ncvoter-distilbert-base-uncased-finetune/checkpoint-162\n",
      "Configuration saved in ./saved_models/ncvoter-distilbert-base-uncased-finetune/checkpoint-162/config.json\n",
      "Model weights saved in ./saved_models/ncvoter-distilbert-base-uncased-finetune/checkpoint-162/pytorch_model.bin\n",
      "tokenizer config file saved in ./saved_models/ncvoter-distilbert-base-uncased-finetune/checkpoint-162/tokenizer_config.json\n",
      "Special tokens file saved in ./saved_models/ncvoter-distilbert-base-uncased-finetune/checkpoint-162/special_tokens_map.json\n",
      "The following columns in the evaluation set  don't have a corresponding argument in `DistilBertForSequenceClassification.forward` and have been ignored: rule_left, rule_right.\n",
      "***** Running Evaluation *****\n",
      "  Num examples = 159\n",
      "  Batch size = 16\n",
      "Saving model checkpoint to ./saved_models/ncvoter-distilbert-base-uncased-finetune/checkpoint-180\n",
      "Configuration saved in ./saved_models/ncvoter-distilbert-base-uncased-finetune/checkpoint-180/config.json\n",
      "Model weights saved in ./saved_models/ncvoter-distilbert-base-uncased-finetune/checkpoint-180/pytorch_model.bin\n",
      "tokenizer config file saved in ./saved_models/ncvoter-distilbert-base-uncased-finetune/checkpoint-180/tokenizer_config.json\n",
      "Special tokens file saved in ./saved_models/ncvoter-distilbert-base-uncased-finetune/checkpoint-180/special_tokens_map.json\n",
      "The following columns in the evaluation set  don't have a corresponding argument in `DistilBertForSequenceClassification.forward` and have been ignored: rule_left, rule_right.\n",
      "***** Running Evaluation *****\n",
      "  Num examples = 159\n",
      "  Batch size = 16\n",
      "Saving model checkpoint to ./saved_models/ncvoter-distilbert-base-uncased-finetune/checkpoint-198\n",
      "Configuration saved in ./saved_models/ncvoter-distilbert-base-uncased-finetune/checkpoint-198/config.json\n",
      "Model weights saved in ./saved_models/ncvoter-distilbert-base-uncased-finetune/checkpoint-198/pytorch_model.bin\n",
      "tokenizer config file saved in ./saved_models/ncvoter-distilbert-base-uncased-finetune/checkpoint-198/tokenizer_config.json\n",
      "Special tokens file saved in ./saved_models/ncvoter-distilbert-base-uncased-finetune/checkpoint-198/special_tokens_map.json\n",
      "The following columns in the evaluation set  don't have a corresponding argument in `DistilBertForSequenceClassification.forward` and have been ignored: rule_left, rule_right.\n",
      "***** Running Evaluation *****\n",
      "  Num examples = 159\n",
      "  Batch size = 16\n",
      "Saving model checkpoint to ./saved_models/ncvoter-distilbert-base-uncased-finetune/checkpoint-216\n",
      "Configuration saved in ./saved_models/ncvoter-distilbert-base-uncased-finetune/checkpoint-216/config.json\n",
      "Model weights saved in ./saved_models/ncvoter-distilbert-base-uncased-finetune/checkpoint-216/pytorch_model.bin\n",
      "tokenizer config file saved in ./saved_models/ncvoter-distilbert-base-uncased-finetune/checkpoint-216/tokenizer_config.json\n",
      "Special tokens file saved in ./saved_models/ncvoter-distilbert-base-uncased-finetune/checkpoint-216/special_tokens_map.json\n",
      "The following columns in the evaluation set  don't have a corresponding argument in `DistilBertForSequenceClassification.forward` and have been ignored: rule_left, rule_right.\n",
      "***** Running Evaluation *****\n",
      "  Num examples = 159\n",
      "  Batch size = 16\n",
      "Saving model checkpoint to ./saved_models/ncvoter-distilbert-base-uncased-finetune/checkpoint-234\n",
      "Configuration saved in ./saved_models/ncvoter-distilbert-base-uncased-finetune/checkpoint-234/config.json\n",
      "Model weights saved in ./saved_models/ncvoter-distilbert-base-uncased-finetune/checkpoint-234/pytorch_model.bin\n",
      "tokenizer config file saved in ./saved_models/ncvoter-distilbert-base-uncased-finetune/checkpoint-234/tokenizer_config.json\n",
      "Special tokens file saved in ./saved_models/ncvoter-distilbert-base-uncased-finetune/checkpoint-234/special_tokens_map.json\n",
      "The following columns in the evaluation set  don't have a corresponding argument in `DistilBertForSequenceClassification.forward` and have been ignored: rule_left, rule_right.\n",
      "***** Running Evaluation *****\n",
      "  Num examples = 159\n",
      "  Batch size = 16\n",
      "Saving model checkpoint to ./saved_models/ncvoter-distilbert-base-uncased-finetune/checkpoint-252\n",
      "Configuration saved in ./saved_models/ncvoter-distilbert-base-uncased-finetune/checkpoint-252/config.json\n",
      "Model weights saved in ./saved_models/ncvoter-distilbert-base-uncased-finetune/checkpoint-252/pytorch_model.bin\n",
      "tokenizer config file saved in ./saved_models/ncvoter-distilbert-base-uncased-finetune/checkpoint-252/tokenizer_config.json\n",
      "Special tokens file saved in ./saved_models/ncvoter-distilbert-base-uncased-finetune/checkpoint-252/special_tokens_map.json\n",
      "The following columns in the evaluation set  don't have a corresponding argument in `DistilBertForSequenceClassification.forward` and have been ignored: rule_left, rule_right.\n",
      "***** Running Evaluation *****\n",
      "  Num examples = 159\n",
      "  Batch size = 16\n",
      "Saving model checkpoint to ./saved_models/ncvoter-distilbert-base-uncased-finetune/checkpoint-270\n",
      "Configuration saved in ./saved_models/ncvoter-distilbert-base-uncased-finetune/checkpoint-270/config.json\n",
      "Model weights saved in ./saved_models/ncvoter-distilbert-base-uncased-finetune/checkpoint-270/pytorch_model.bin\n",
      "tokenizer config file saved in ./saved_models/ncvoter-distilbert-base-uncased-finetune/checkpoint-270/tokenizer_config.json\n",
      "Special tokens file saved in ./saved_models/ncvoter-distilbert-base-uncased-finetune/checkpoint-270/special_tokens_map.json\n",
      "The following columns in the evaluation set  don't have a corresponding argument in `DistilBertForSequenceClassification.forward` and have been ignored: rule_left, rule_right.\n",
      "***** Running Evaluation *****\n",
      "  Num examples = 159\n",
      "  Batch size = 16\n",
      "Saving model checkpoint to ./saved_models/ncvoter-distilbert-base-uncased-finetune/checkpoint-288\n",
      "Configuration saved in ./saved_models/ncvoter-distilbert-base-uncased-finetune/checkpoint-288/config.json\n",
      "Model weights saved in ./saved_models/ncvoter-distilbert-base-uncased-finetune/checkpoint-288/pytorch_model.bin\n",
      "tokenizer config file saved in ./saved_models/ncvoter-distilbert-base-uncased-finetune/checkpoint-288/tokenizer_config.json\n",
      "Special tokens file saved in ./saved_models/ncvoter-distilbert-base-uncased-finetune/checkpoint-288/special_tokens_map.json\n",
      "The following columns in the evaluation set  don't have a corresponding argument in `DistilBertForSequenceClassification.forward` and have been ignored: rule_left, rule_right.\n",
      "***** Running Evaluation *****\n",
      "  Num examples = 159\n",
      "  Batch size = 16\n",
      "Saving model checkpoint to ./saved_models/ncvoter-distilbert-base-uncased-finetune/checkpoint-306\n",
      "Configuration saved in ./saved_models/ncvoter-distilbert-base-uncased-finetune/checkpoint-306/config.json\n",
      "Model weights saved in ./saved_models/ncvoter-distilbert-base-uncased-finetune/checkpoint-306/pytorch_model.bin\n",
      "tokenizer config file saved in ./saved_models/ncvoter-distilbert-base-uncased-finetune/checkpoint-306/tokenizer_config.json\n",
      "Special tokens file saved in ./saved_models/ncvoter-distilbert-base-uncased-finetune/checkpoint-306/special_tokens_map.json\n",
      "The following columns in the evaluation set  don't have a corresponding argument in `DistilBertForSequenceClassification.forward` and have been ignored: rule_left, rule_right.\n",
      "***** Running Evaluation *****\n",
      "  Num examples = 159\n",
      "  Batch size = 16\n",
      "Saving model checkpoint to ./saved_models/ncvoter-distilbert-base-uncased-finetune/checkpoint-324\n",
      "Configuration saved in ./saved_models/ncvoter-distilbert-base-uncased-finetune/checkpoint-324/config.json\n",
      "Model weights saved in ./saved_models/ncvoter-distilbert-base-uncased-finetune/checkpoint-324/pytorch_model.bin\n",
      "tokenizer config file saved in ./saved_models/ncvoter-distilbert-base-uncased-finetune/checkpoint-324/tokenizer_config.json\n",
      "Special tokens file saved in ./saved_models/ncvoter-distilbert-base-uncased-finetune/checkpoint-324/special_tokens_map.json\n",
      "The following columns in the evaluation set  don't have a corresponding argument in `DistilBertForSequenceClassification.forward` and have been ignored: rule_left, rule_right.\n",
      "***** Running Evaluation *****\n",
      "  Num examples = 159\n",
      "  Batch size = 16\n",
      "Saving model checkpoint to ./saved_models/ncvoter-distilbert-base-uncased-finetune/checkpoint-342\n",
      "Configuration saved in ./saved_models/ncvoter-distilbert-base-uncased-finetune/checkpoint-342/config.json\n",
      "Model weights saved in ./saved_models/ncvoter-distilbert-base-uncased-finetune/checkpoint-342/pytorch_model.bin\n",
      "tokenizer config file saved in ./saved_models/ncvoter-distilbert-base-uncased-finetune/checkpoint-342/tokenizer_config.json\n",
      "Special tokens file saved in ./saved_models/ncvoter-distilbert-base-uncased-finetune/checkpoint-342/special_tokens_map.json\n",
      "The following columns in the evaluation set  don't have a corresponding argument in `DistilBertForSequenceClassification.forward` and have been ignored: rule_left, rule_right.\n",
      "***** Running Evaluation *****\n",
      "  Num examples = 159\n",
      "  Batch size = 16\n",
      "Saving model checkpoint to ./saved_models/ncvoter-distilbert-base-uncased-finetune/checkpoint-360\n",
      "Configuration saved in ./saved_models/ncvoter-distilbert-base-uncased-finetune/checkpoint-360/config.json\n",
      "Model weights saved in ./saved_models/ncvoter-distilbert-base-uncased-finetune/checkpoint-360/pytorch_model.bin\n",
      "tokenizer config file saved in ./saved_models/ncvoter-distilbert-base-uncased-finetune/checkpoint-360/tokenizer_config.json\n",
      "Special tokens file saved in ./saved_models/ncvoter-distilbert-base-uncased-finetune/checkpoint-360/special_tokens_map.json\n",
      "\n",
      "\n",
      "Training completed. Do not forget to share your model on huggingface.co/models =)\n",
      "\n",
      "\n",
      "Loading best model from ./saved_models/ncvoter-distilbert-base-uncased-finetune/checkpoint-324 (score: 0.8805031446540881).\n"
     ]
    },
    {
     "data": {
      "text/plain": [
       "TrainOutput(global_step=360, training_loss=0.22781490749782987, metrics={'train_runtime': 118.3245, 'train_samples_per_second': 48.511, 'train_steps_per_second': 3.042, 'total_flos': 244668320219184.0, 'train_loss': 0.22781490749782987, 'epoch': 20.0})"
      ]
     },
     "execution_count": 49,
     "metadata": {},
     "output_type": "execute_result"
    }
   ],
   "source": [
    "trainer.train()"
   ]
  },
  {
   "cell_type": "code",
   "execution_count": 50,
   "metadata": {},
   "outputs": [
    {
     "name": "stderr",
     "output_type": "stream",
     "text": [
      "The following columns in the evaluation set  don't have a corresponding argument in `DistilBertForSequenceClassification.forward` and have been ignored: rule_left, rule_right.\n",
      "***** Running Evaluation *****\n",
      "  Num examples = 159\n",
      "  Batch size = 16\n"
     ]
    },
    {
     "data": {
      "text/html": [
       "\n",
       "    <div>\n",
       "      \n",
       "      <progress value='21' max='10' style='width:300px; height:20px; vertical-align: middle;'></progress>\n",
       "      [10/10 00:00]\n",
       "    </div>\n",
       "    "
      ],
      "text/plain": [
       "<IPython.core.display.HTML object>"
      ]
     },
     "metadata": {},
     "output_type": "display_data"
    },
    {
     "data": {
      "text/plain": [
       "{'eval_loss': 0.5147467255592346,\n",
       " 'eval_precision': 0.8953488372093024,\n",
       " 'eval_recall': 0.8850574712643678,\n",
       " 'eval_f1': 0.8901734104046243,\n",
       " 'eval_accuracy': 0.8805031446540881,\n",
       " 'eval_runtime': 0.3153,\n",
       " 'eval_samples_per_second': 504.22,\n",
       " 'eval_steps_per_second': 31.712,\n",
       " 'epoch': 20.0}"
      ]
     },
     "execution_count": 50,
     "metadata": {},
     "output_type": "execute_result"
    }
   ],
   "source": [
    "trainer.evaluate()"
   ]
  },
  {
   "cell_type": "code",
   "execution_count": 51,
   "metadata": {},
   "outputs": [
    {
     "name": "stderr",
     "output_type": "stream",
     "text": [
      "The following columns in the evaluation set  don't have a corresponding argument in `DistilBertForSequenceClassification.forward` and have been ignored: rule_left, rule_right.\n",
      "***** Running Evaluation *****\n",
      "  Num examples = 161\n",
      "  Batch size = 16\n"
     ]
    },
    {
     "name": "stdout",
     "output_type": "stream",
     "text": [
      "{'eval_loss': 0.35205912590026855, 'eval_precision': 0.8918918918918919, 'eval_recall': 0.8918918918918919, 'eval_f1': 0.8918918918918919, 'eval_accuracy': 0.9006211180124224, 'eval_runtime': 0.3332, 'eval_samples_per_second': 483.191, 'eval_steps_per_second': 33.013, 'epoch': 20.0}\n"
     ]
    }
   ],
   "source": [
    "ll = trainer.evaluate(encoded_dataset['test'])\n",
    "print(ll)\n",
    "\n",
    "f = open(result_file, 'w')\n",
    "f.write(str(ll))\n",
    "f.close()"
   ]
  },
  {
   "cell_type": "code",
   "execution_count": 52,
   "metadata": {},
   "outputs": [
    {
     "name": "stderr",
     "output_type": "stream",
     "text": [
      "Saving model checkpoint to ./saved_models/ncvoter-distilbert-base-uncased-finetune\n",
      "Configuration saved in ./saved_models/ncvoter-distilbert-base-uncased-finetune/config.json\n",
      "Model weights saved in ./saved_models/ncvoter-distilbert-base-uncased-finetune/pytorch_model.bin\n",
      "tokenizer config file saved in ./saved_models/ncvoter-distilbert-base-uncased-finetune/tokenizer_config.json\n",
      "Special tokens file saved in ./saved_models/ncvoter-distilbert-base-uncased-finetune/special_tokens_map.json\n"
     ]
    }
   ],
   "source": [
    "# save model\n",
    "trainer.save_model()"
   ]
  }
 ],
 "metadata": {
  "kernelspec": {
   "display_name": "Python 3.6.4 ('base')",
   "language": "python",
   "name": "python3"
  },
  "language_info": {
   "codemirror_mode": {
    "name": "ipython",
    "version": 3
   },
   "file_extension": ".py",
   "mimetype": "text/x-python",
   "name": "python",
   "nbconvert_exporter": "python",
   "pygments_lexer": "ipython3",
   "version": "3.6.4"
  },
  "orig_nbformat": 4,
  "vscode": {
   "interpreter": {
    "hash": "370e093059bd6f173e0ac27bbfc74cc78af2c2ddbc8766d50665443f5906163e"
   }
  }
 },
 "nbformat": 4,
 "nbformat_minor": 2
}
