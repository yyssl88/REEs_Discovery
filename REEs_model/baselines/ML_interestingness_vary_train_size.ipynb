{
 "cells": [
  {
   "cell_type": "code",
   "execution_count": 1,
   "metadata": {},
   "outputs": [],
   "source": [
    "import sys\n",
    "datasetName = sys.argv[1] #'airports' # hospital, ncvoter, inspection\n",
    "result_file = sys.argv[2]\n",
    "train_round = sys.argv[3]\n",
    "train_ratio = sys.argv[4]\n",
    "\n",
    "import os\n",
    "import pandas as pd\n",
    "import numpy as np\n",
    "\n",
    "model_checkpoint_ = \"distilbert-base-uncased\"\n",
    "mlm_model_dir = os.path.join('./saved_models/', datasetName + '-' + model_checkpoint_ + '-mlm')\n",
    "saved_model_path = os.path.join('./saved_models/', datasetName + '-' + model_checkpoint_ + '-finetune')\n",
    "\n",
    "model_checkpoint = mlm_model_dir #\"distilbert-base-uncased\"\n",
    "data_prefix = '../../REEs_model_data/revision/labeled_data_400/'\n",
    "rules_set_path = os.path.join(data_prefix, datasetName, datasetName + '_rules.txt')\n",
    "\n",
    "train_pair_ids_file = os.path.join(data_prefix, datasetName, 'train_' + train_round, 'train.csv')\n",
    "valid_pair_ids_file = os.path.join(data_prefix, datasetName, 'train_' + train_round, 'valid.csv')\n",
    "test_pair_ids_file = os.path.join(data_prefix, datasetName, 'train_' + train_round, 'test.csv')\n"
   ]
  },
  {
   "cell_type": "code",
   "execution_count": 2,
   "metadata": {},
   "outputs": [],
   "source": [
    "# only handle objective features\n",
    "rules_set = pd.read_csv(rules_set_path)\n",
    "rules_set = rules_set[['support_ratio', 'confidence', 'conciseness']].values\n",
    "object_num = len(rules_set[0])\n",
    "\n",
    "_datasets = []\n",
    "for option in ('train_' + train_ratio, 'valid', 'test'):\n",
    "    rule_pair_set_path = os.path.join(data_prefix, datasetName, 'train_' + train_round, option + '.csv')\n",
    "    rules_pair_ids_set = pd.read_csv(rule_pair_set_path, delimiter=\",\")\n",
    "    #rules_pair_ids_set\n",
    "    # split training, validation and testing\n",
    "    # prepare the rule pairs\n",
    "    object_features = []\n",
    "    for left_id, right_id, label in rules_pair_ids_set.values:\n",
    "        obj_fea = [e1 - e2 for e1, e2 in zip(rules_set[left_id], rules_set[right_id])]\n",
    "        object_features.append(obj_fea + [label])\n",
    "    object_features = np.array(object_features)\n",
    "    # add data\n",
    "    _datasets.append(object_features)"
   ]
  },
  {
   "cell_type": "code",
   "execution_count": 3,
   "metadata": {},
   "outputs": [
    {
     "data": {
      "text/plain": [
       "array([[-1.99644971e+06,  2.23121564e-02, -6.66666667e-01,\n",
       "         0.00000000e+00],\n",
       "       [ 2.82000000e-01,  1.04688663e-01,  0.00000000e+00,\n",
       "         0.00000000e+00],\n",
       "       [ 2.57921560e+04,  0.00000000e+00,  0.00000000e+00,\n",
       "         0.00000000e+00],\n",
       "       ...,\n",
       "       [-1.73780000e+01,  5.02704289e-02, -5.00000000e-01,\n",
       "         0.00000000e+00],\n",
       "       [ 8.64765902e+05, -1.80144597e-01,  0.00000000e+00,\n",
       "         1.00000000e+00],\n",
       "       [ 1.97217123e+06, -7.19962105e-02,  5.00000000e-01,\n",
       "         1.00000000e+00]])"
      ]
     },
     "execution_count": 3,
     "metadata": {},
     "output_type": "execute_result"
    }
   ],
   "source": [
    "train, valid, test = _datasets\n",
    "\n",
    "train[:, 0] /= 1000.0\n",
    "valid[:, 0] /= 1000.0\n",
    "test[:, 0] /= 1000.0\n",
    "train"
   ]
  },
  {
   "cell_type": "code",
   "execution_count": 4,
   "metadata": {},
   "outputs": [
    {
     "name": "stderr",
     "output_type": "stream",
     "text": [
      "/home/yaoshuw/anaconda3/lib/python3.6/site-packages/sklearn/utils/validation.py:63: DataConversionWarning: A column-vector y was passed when a 1d array was expected. Please change the shape of y to (n_samples, ), for example using ravel().\n",
      "  return f(*args, **kwargs)\n"
     ]
    }
   ],
   "source": [
    "\n",
    "# logistic regression\n",
    "from sklearn.linear_model import LogisticRegression\n",
    "train_X, train_y = train[:, :-1], train[:, -1:]\n",
    "clf = LogisticRegression(random_state=0).fit(train_X, train_y)"
   ]
  },
  {
   "cell_type": "code",
   "execution_count": 5,
   "metadata": {},
   "outputs": [],
   "source": [
    "from sklearn import metrics\n",
    "import numpy as np\n",
    "def compute_metrics(predictions, labels):\n",
    "    #print(predictions, labels)\n",
    "    precision = metrics.precision_score(labels, predictions)\n",
    "    recall = metrics.recall_score(labels, predictions)\n",
    "    f1 = metrics.f1_score(labels, predictions)\n",
    "    acc = metrics.accuracy_score(labels, predictions)\n",
    "    return {'precision': precision, 'recall': recall, 'f1': f1, 'accuracy': acc}"
   ]
  },
  {
   "cell_type": "code",
   "execution_count": 6,
   "metadata": {},
   "outputs": [
    {
     "name": "stdout",
     "output_type": "stream",
     "text": [
      "{'precision': 0.45555555555555555, 'recall': 0.5694444444444444, 'f1': 0.5061728395061729, 'accuracy': 0.4968553459119497}\n"
     ]
    }
   ],
   "source": [
    "eval_X, eval_y = valid[:, :-1], valid[:, -1:]\n",
    "eval_prediction = clf.predict(eval_X)\n",
    "eval_prediction = np.array(eval_prediction)[:, np.newaxis]\n",
    "print(compute_metrics(eval_prediction, eval_y))"
   ]
  },
  {
   "cell_type": "code",
   "execution_count": 7,
   "metadata": {},
   "outputs": [
    {
     "name": "stdout",
     "output_type": "stream",
     "text": [
      "{'precision': 0.4868421052631579, 'recall': 0.5211267605633803, 'f1': 0.5034013605442176, 'accuracy': 0.546583850931677}\n"
     ]
    }
   ],
   "source": [
    "test_X, test_y = test[:, :-1], test[:, -1:]\n",
    "test_prediction = clf.predict(test_X)\n",
    "test_prediction = np.array(test_prediction)[:, np.newaxis]\n",
    "print(compute_metrics(test_prediction, test_y))"
   ]
  },
  {
   "cell_type": "code",
   "execution_count": null,
   "metadata": {},
   "outputs": [],
   "source": [
    "ll = compute_metrics(test_prediction, test_y)\n",
    "f = open(result_file, 'w')\n",
    "f.write(str(ll))\n",
    "f.close()"
   ]
  }
 ],
 "metadata": {
  "kernelspec": {
   "display_name": "Python 3.6.4 ('base')",
   "language": "python",
   "name": "python3"
  },
  "language_info": {
   "codemirror_mode": {
    "name": "ipython",
    "version": 3
   },
   "file_extension": ".py",
   "mimetype": "text/x-python",
   "name": "python",
   "nbconvert_exporter": "python",
   "pygments_lexer": "ipython3",
   "version": "3.6.4"
  },
  "orig_nbformat": 4,
  "vscode": {
   "interpreter": {
    "hash": "370e093059bd6f173e0ac27bbfc74cc78af2c2ddbc8766d50665443f5906163e"
   }
  }
 },
 "nbformat": 4,
 "nbformat_minor": 2
}
